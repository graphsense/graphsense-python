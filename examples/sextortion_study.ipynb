{
 "cells": [
  {
   "cell_type": "markdown",
   "id": "turned-startup",
   "metadata": {
    "ExecuteTime": {
     "end_time": "2021-03-22T08:41:40.812538Z",
     "start_time": "2021-03-22T08:41:40.809610Z"
    }
   },
   "source": [
    "# Sextortion Investigation Demo\n",
    "\n",
    "In this demo we will investigate Bitcoin addresses that received money from Sextortion Spam victims. The data from this demo is taken from our study [Spams meet Cryptocurrencies: Sextortion in the Bitcoin Ecosystem](https://arxiv.org/abs/1908.01051) and is a subset of [all the 12,533 Bitcoin addresses](https://github.com/MatteoRomiti/Sextortion_Spam_Bitcoin) we have collected from 4,340,736 sextortion spam emails.\n",
    "\n",
    "The data for this demo is available in `./examples/data/sextortion_addresses.json`\n",
    "\n",
    "We are going to answer the following questions:\n",
    "\n",
    "* Q1: How many USD did the input addresses receive in total?\n",
    "\n",
    "* Q2: How many USD did the corresponding entities receive in total?\n",
    "\n",
    "* Q3: How many addresses are controlled by these entities?\n",
    "\n",
    "* Q4: Where did the money come from, where did it go to?\n",
    "\n",
    "* Q5: Can we find any known entities (e.g., exchanges) in the digital money trace?"
   ]
  },
  {
   "cell_type": "markdown",
   "id": "a38755d3",
   "metadata": {},
   "source": [
    "## Preparations"
   ]
  },
  {
   "cell_type": "markdown",
   "id": "a0b3e94f",
   "metadata": {},
   "source": [
    "First, we install the graphsense-python package as described in the [README](https://github.com/graphsense/graphsense-python/blob/develop/README.md) of this repository. Import the package and configure the API endpoint. An API key for the public GraphSense demo API can be requested by sending an email to contact@graphense.info."
   ]
  },
  {
   "cell_type": "code",
   "execution_count": 1,
   "id": "68589d91",
   "metadata": {},
   "outputs": [],
   "source": [
    "import graphsense\n",
    "from graphsense.api import addresses_api, blocks_api, entities_api, general_api\n",
    "\n",
    "import json\n",
    "\n",
    "from pprint import pprint"
   ]
  },
  {
   "cell_type": "code",
   "execution_count": 2,
   "id": "dutch-documentation",
   "metadata": {},
   "outputs": [],
   "source": [
    "configuration = graphsense.Configuration(\n",
    "    #host = \"https://api.graphsense.info/\",\n",
    "    host = \"http://spark-master:9001\",\n",
    "    api_key = {'api_key': 'REPLACE_WITH_API_KEY'})\n",
    "\n",
    "CURRENCY = 'btc'"
   ]
  },
  {
   "cell_type": "markdown",
   "id": "68b0c9e9",
   "metadata": {},
   "source": [
    "We can test whether or client works, by checking what data the GraphSense endpoint provides"
   ]
  },
  {
   "cell_type": "code",
   "execution_count": 3,
   "id": "0ae48317",
   "metadata": {},
   "outputs": [
    {
     "name": "stdout",
     "output_type": "stream",
     "text": [
      "{'currencies': [{'data_sources': [{'id': 'btc_ledger',\n",
      "                                   'report_uuid': 'btc_ledger',\n",
      "                                   'version': {'nr': '683014',\n",
      "                                               'timestamp': '2021-05-10 '\n",
      "                                                            '23:50:21'},\n",
      "                                   'visible_name': 'BTC Blockchain'}],\n",
      "                 'name': 'btc',\n",
      "                 'no_address_relations': 5367863690,\n",
      "                 'no_addresses': 827527043,\n",
      "                 'no_blocks': 683014,\n",
      "                 'no_entities': 394318887,\n",
      "                 'no_labels': 510,\n",
      "                 'no_txs': 641154581,\n",
      "                 'notes': [],\n",
      "                 'timestamp': 1620690621,\n",
      "                 'tools': []},\n",
      "                {'data_sources': [{'id': 'bch_ledger',\n",
      "                                   'report_uuid': 'bch_ledger',\n",
      "                                   'version': {'nr': '687204',\n",
      "                                               'timestamp': '2021-05-09 '\n",
      "                                                            '23:56:46'},\n",
      "                                   'visible_name': 'BCH Blockchain'}],\n",
      "                 'name': 'bch',\n",
      "                 'no_address_relations': 1935486466,\n",
      "                 'no_addresses': 319087759,\n",
      "                 'no_blocks': 687204,\n",
      "                 'no_entities': 149578673,\n",
      "                 'no_labels': 1,\n",
      "                 'no_txs': 329389382,\n",
      "                 'notes': [],\n",
      "                 'timestamp': 1620604606,\n",
      "                 'tools': []},\n",
      "                {'data_sources': [{'id': 'ltc_ledger',\n",
      "                                   'report_uuid': 'ltc_ledger',\n",
      "                                   'version': {'nr': '2049641',\n",
      "                                               'timestamp': '2021-05-09 '\n",
      "                                                            '23:53:33'},\n",
      "                                   'visible_name': 'LTC Blockchain'}],\n",
      "                 'name': 'ltc',\n",
      "                 'no_address_relations': 378279833,\n",
      "                 'no_addresses': 75981082,\n",
      "                 'no_blocks': 2049641,\n",
      "                 'no_entities': 36337831,\n",
      "                 'no_labels': 1,\n",
      "                 'no_txs': 69883532,\n",
      "                 'notes': [],\n",
      "                 'timestamp': 1620604413,\n",
      "                 'tools': []},\n",
      "                {'data_sources': [{'id': 'zec_ledger',\n",
      "                                   'report_uuid': 'zec_ledger',\n",
      "                                   'version': {'nr': '1244009',\n",
      "                                               'timestamp': '2021-05-09 '\n",
      "                                                            '23:59:36'},\n",
      "                                   'visible_name': 'ZEC Blockchain'}],\n",
      "                 'name': 'zec',\n",
      "                 'no_address_relations': 75149534,\n",
      "                 'no_addresses': 5687455,\n",
      "                 'no_blocks': 1244009,\n",
      "                 'no_entities': 2783888,\n",
      "                 'no_labels': 1,\n",
      "                 'no_txs': 8474074,\n",
      "                 'notes': [],\n",
      "                 'timestamp': 1620604776,\n",
      "                 'tools': []},\n",
      "                {'data_sources': [{'id': 'eth_ledger',\n",
      "                                   'report_uuid': 'eth_ledger',\n",
      "                                   'version': {'nr': '12403258',\n",
      "                                               'timestamp': '2021-05-09 '\n",
      "                                                            '23:59:45'},\n",
      "                                   'visible_name': 'ETH Blockchain'}],\n",
      "                 'name': 'eth',\n",
      "                 'no_address_relations': 337092546,\n",
      "                 'no_addresses': 117166583,\n",
      "                 'no_blocks': 12403258,\n",
      "                 'no_entities': 0,\n",
      "                 'no_labels': 7534,\n",
      "                 'no_txs': 1124352336,\n",
      "                 'notes': [],\n",
      "                 'timestamp': 1620604785,\n",
      "                 'tools': []}],\n",
      " 'notes': [{'note': 'Please **note** that the clustering dataset is built with '\n",
      "                    'multi input address clustering to avoid false clustering '\n",
      "                    'results due to coinjoins (see TITANIUM glossary '\n",
      "                    'http://titanium-project.eu/glossary/#coinjoin), we '\n",
      "                    'exclude coinjoins prior to clustering. This does not '\n",
      "                    'eliminate the risk of false results, since coinjoin '\n",
      "                    'detection is also heuristic in nature, but it should '\n",
      "                    'decrease the potential for wrong cluster merges.'},\n",
      "           {'note': 'Our tags are all manually crawled or from credible '\n",
      "                    'sources, we do not use tags that where automatically '\n",
      "                    'extracted without human interaction. Origins of the tags '\n",
      "                    'have been saved for reproducibility please contact the '\n",
      "                    'GraphSense team (contact@graphsense.info) for more '\n",
      "                    'insight.'}],\n",
      " 'tags_source': {'id': 'graphsense_tags',\n",
      "                 'report_uuid': 'graphsense_tags',\n",
      "                 'version': '0.4.5',\n",
      "                 'visible_name': 'GraphSense attribution tags'},\n",
      " 'tools': [{'id': 'ait:graphsense',\n",
      "            'responsible_for': [],\n",
      "            'titanium_replayable': False,\n",
      "            'version': '0.4.5',\n",
      "            'visible_name': 'GraphSense API'}],\n",
      " 'version': {'file': '0.4.5',\n",
      "             'nr': '0.4.5',\n",
      "             'timestamp': '2021-05-25 14:37:11'}}\n"
     ]
    }
   ],
   "source": [
    "with graphsense.ApiClient(configuration) as api_client:\n",
    "    api_instance = general_api.GeneralApi(api_client)\n",
    "    api_response = api_instance.get_statistics()\n",
    "    pprint(api_response)"
   ]
  },
  {
   "cell_type": "markdown",
   "id": "9d9eafb5",
   "metadata": {},
   "source": [
    "Now we load the provided sample Bitcoin addresses\n"
   ]
  },
  {
   "cell_type": "code",
   "execution_count": 4,
   "id": "external-spare",
   "metadata": {
    "ExecuteTime": {
     "end_time": "2021-03-23T08:39:00.964472Z",
     "start_time": "2021-03-23T08:39:00.960454Z"
    }
   },
   "outputs": [
    {
     "name": "stdout",
     "output_type": "stream",
     "text": [
      "'Example address: 1JwRp2J8bQcoG8XTUbxQZaEj9QB4RB6zEa'\n",
      "Total number of addresses: 245\n"
     ]
    }
   ],
   "source": [
    "INPUT_FILE = './data/sextortion_addresses.json' # 245 sextortion addresses\n",
    "with open(INPUT_FILE, 'r') as fp:\n",
    "    input_addresses = json.load(fp)\n",
    "    \n",
    "pprint(f\"Example address: {input_addresses[0]}\")\n",
    "print(f\"Total number of addresses: {len(input_addresses)}\")"
   ]
  },
  {
   "cell_type": "markdown",
   "id": "intended-screw",
   "metadata": {},
   "source": [
    "# Q1. How many USD (US dollars) did the input addresses receive in total?"
   ]
  },
  {
   "cell_type": "markdown",
   "id": "60546702",
   "metadata": {},
   "source": [
    "GraphSenes supports several asset types: Bitcoin (BTC), Bitcoin Cash (BCH), Litecoin (LTC), ZCash (ZEC).\n",
    "\n",
    "We are investigating Bitcoin transactions, therefore we set the default currency to Bitcoin **BTC**."
   ]
  },
  {
   "cell_type": "code",
   "execution_count": 5,
   "id": "eba9c3e2",
   "metadata": {},
   "outputs": [],
   "source": [
    "address_details = {}"
   ]
  },
  {
   "cell_type": "code",
   "execution_count": 6,
   "id": "damaged-dealer",
   "metadata": {},
   "outputs": [],
   "source": [
    "with graphsense.ApiClient(configuration) as api_client:\n",
    "    api_instance = addresses_api.AddressesApi(api_client)\n",
    "    try:\n",
    "        # Retrieve all addresses in batch\n",
    "        addresses = api_instance.list_addresses(CURRENCY, ids=input_addresses)\n",
    "        for a in addresses.addresses:\n",
    "            address_details[a.address] = a\n",
    "    except graphsense.ApiException as e:\n",
    "        print(\"Exception when calling AddressesApi: %s\\n\" % e)"
   ]
  },
  {
   "cell_type": "code",
   "execution_count": 7,
   "id": "owned-audit",
   "metadata": {
    "ExecuteTime": {
     "end_time": "2021-03-23T08:40:58.763995Z",
     "start_time": "2021-03-23T08:40:58.755781Z"
    }
   },
   "outputs": [
    {
     "name": "stdout",
     "output_type": "stream",
     "text": [
      "245 addresses received 882,341.53 USD\n"
     ]
    }
   ],
   "source": [
    "total_received = sum([el.total_received.usd for el in address_details.values()])\n",
    "print(\"{} addresses received {:,.2f} USD\".format(len(address_details), total_received))"
   ]
  },
  {
   "cell_type": "markdown",
   "id": "intended-noise",
   "metadata": {},
   "source": [
    "# Q2: How many USD did the corresponding entities receive in total?\n",
    "# Q3: How many addresses are controlled by these entities?"
   ]
  },
  {
   "cell_type": "markdown",
   "id": "5e4a8ee1",
   "metadata": {},
   "source": [
    "For each address, fetch the corresponding entity and store it in a dict for further use"
   ]
  },
  {
   "cell_type": "code",
   "execution_count": 8,
   "id": "7c573031",
   "metadata": {},
   "outputs": [],
   "source": [
    "address_entity = dict()  # address, entity_id\n",
    "entities = dict()  # entity_id, details (for later)"
   ]
  },
  {
   "cell_type": "code",
   "execution_count": 9,
   "id": "coated-sapphire",
   "metadata": {
    "ExecuteTime": {
     "end_time": "2021-03-23T08:42:53.131084Z",
     "start_time": "2021-03-23T08:40:58.775071Z"
    }
   },
   "outputs": [
    {
     "name": "stdout",
     "output_type": "stream",
     "text": [
      "245\r"
     ]
    }
   ],
   "source": [
    "with graphsense.ApiClient(configuration) as api_client:\n",
    "    api_instance = addresses_api.AddressesApi(api_client)\n",
    "    for i, a in enumerate(input_addresses):\n",
    "        print(i + 1, end='\\r')\n",
    "        e = api_instance.get_address_entity(CURRENCY, a)\n",
    "        address_entity[a] = e.entity\n",
    "        entities[e.entity] = e"
   ]
  },
  {
   "cell_type": "markdown",
   "id": "26c85ad8",
   "metadata": {},
   "source": [
    "For each entity, fetch all addresses controlled by that entity"
   ]
  },
  {
   "cell_type": "code",
   "execution_count": 10,
   "id": "brazilian-collectible",
   "metadata": {
    "ExecuteTime": {
     "end_time": "2021-03-23T08:43:41.219376Z",
     "start_time": "2021-03-23T08:42:53.133688Z"
    }
   },
   "outputs": [
    {
     "name": "stdout",
     "output_type": "stream",
     "text": [
      "245\r"
     ]
    }
   ],
   "source": [
    "entity_addresses = dict()  # entity_id, list of addresses with details\n",
    "\n",
    "with graphsense.ApiClient(configuration) as api_client:\n",
    "    api_instance = entities_api.EntitiesApi(api_client)\n",
    "    for i, e in enumerate(address_entity.values()):\n",
    "        print(i + 1, end='\\r')\n",
    "        if e not in entity_addresses:\n",
    "            entity_addresses[e] = api_instance.list_entity_addresses(CURRENCY, e)\n"
   ]
  },
  {
   "cell_type": "markdown",
   "id": "e56c2ee9",
   "metadata": {},
   "source": [
    "Count the number of retrieved entities, the number of addresses controlled by these entities, and sum up the total number of USD received by these entities"
   ]
  },
  {
   "cell_type": "code",
   "execution_count": 11,
   "id": "interracial-conservative",
   "metadata": {
    "ExecuteTime": {
     "end_time": "2021-03-23T08:43:41.232197Z",
     "start_time": "2021-03-23T08:43:41.223799Z"
    }
   },
   "outputs": [
    {
     "name": "stdout",
     "output_type": "stream",
     "text": [
      "102 entities with 1,850,881 addresses received 10,742,255,577 USD\n"
     ]
    }
   ],
   "source": [
    "n_addresses = 0\n",
    "usd_in = 0\n",
    "for v in entities:\n",
    "    n_addresses += entities[v].no_addresses\n",
    "    usd_in += entities[v].total_received.usd\n",
    "\n",
    "print(\"{} entities with {:,.0f} addresses received {:,.0f} USD\".format(len(entities), n_addresses, usd_in))"
   ]
  },
  {
   "cell_type": "markdown",
   "id": "901089d3",
   "metadata": {},
   "source": [
    "Investigate these entities by plotting a histogram."
   ]
  },
  {
   "cell_type": "code",
   "execution_count": 12,
   "id": "9e0c9f19",
   "metadata": {},
   "outputs": [
    {
     "data": {
      "image/png": "[encoded data removed]",
      "text/plain": [
       "<Figure size 432x288 with 1 Axes>"
      ]
     },
     "metadata": {
      "needs_background": "light"
     },
     "output_type": "display_data"
    }
   ],
   "source": [
    "import matplotlib.pyplot as plt\n",
    "\n",
    "#no_addresses_in_entities = [e for e in entities]\n",
    "#no_addresses_in_entities\n",
    "\n",
    "no_entity_addresses = [entity.no_addresses for entity in entities.values()]\n",
    "plt.hist(no_entity_addresses, bins = 40)\n",
    "plt.ylabel('Number of entities')\n",
    "plt.xlabel('Number of addresses')\n",
    "plt.yscale('log')\n",
    "plt.show()"
   ]
  },
  {
   "cell_type": "markdown",
   "id": "629f6aba",
   "metadata": {},
   "source": [
    "We can assume that entities with very large number of addresses are services (e.g., exchanges) or super-clusters. Therefore, for our further analysis, we filter our entities by **ignoring entities with more than 10K address**."
   ]
  },
  {
   "cell_type": "code",
   "execution_count": 13,
   "id": "657c2bfa",
   "metadata": {},
   "outputs": [
    {
     "name": "stdout",
     "output_type": "stream",
     "text": [
      "100 entities with 514 addresses received 1,387,993 USD\n"
     ]
    }
   ],
   "source": [
    "filtered_entities = [entity for entity in entities.values() if entity.no_addresses < 10000]\n",
    "len(filtered_entities)\n",
    "\n",
    "n_addresses = 0\n",
    "usd_in = 0\n",
    "for entity in filtered_entities:\n",
    "    n_addresses += entity.no_addresses\n",
    "    usd_in += entity.total_received.usd\n",
    "    \n",
    "print(\"{} entities with {:,.0f} addresses received {:,.0f} USD\"\n",
    "      .format(len(filtered_entities), n_addresses, usd_in))"
   ]
  },
  {
   "cell_type": "markdown",
   "id": "maritime-torture",
   "metadata": {},
   "source": [
    "# Q4: Where did the money come from, where did it go to?\n",
    "\n",
    "For all filtered entities we now gather all incoming and outgoing entities."
   ]
  },
  {
   "cell_type": "code",
   "execution_count": 14,
   "id": "outstanding-welcome",
   "metadata": {
    "ExecuteTime": {
     "end_time": "2021-03-23T08:43:41.265903Z",
     "start_time": "2021-03-23T08:43:41.263174Z"
    }
   },
   "outputs": [
    {
     "name": "stdout",
     "output_type": "stream",
     "text": [
      "1\r"
     ]
    },
    {
     "ename": "TypeError",
     "evalue": "__init__() missing 1 required positional argument: 'has_labels'",
     "output_type": "error",
     "traceback": [
      "\u001b[0;31m---------------------------------------------------------------------------\u001b[0m",
      "\u001b[0;31mTypeError\u001b[0m                                 Traceback (most recent call last)",
      "\u001b[0;32m<ipython-input-14-44859af2e175>\u001b[0m in \u001b[0;36m<module>\u001b[0;34m\u001b[0m\n\u001b[1;32m      7\u001b[0m         \u001b[0mprint\u001b[0m\u001b[0;34m(\u001b[0m\u001b[0mi\u001b[0m\u001b[0;34m+\u001b[0m\u001b[0;36m1\u001b[0m\u001b[0;34m,\u001b[0m \u001b[0mend\u001b[0m\u001b[0;34m=\u001b[0m\u001b[0;34m'\\r'\u001b[0m\u001b[0;34m)\u001b[0m\u001b[0;34m\u001b[0m\u001b[0;34m\u001b[0m\u001b[0m\n\u001b[1;32m      8\u001b[0m         \u001b[0;32mif\u001b[0m \u001b[0me\u001b[0m\u001b[0;34m.\u001b[0m\u001b[0mentity\u001b[0m \u001b[0;32mnot\u001b[0m \u001b[0;32min\u001b[0m \u001b[0mentity_nbrs_in\u001b[0m\u001b[0;34m:\u001b[0m\u001b[0;34m\u001b[0m\u001b[0;34m\u001b[0m\u001b[0m\n\u001b[0;32m----> 9\u001b[0;31m             \u001b[0mentity_nbrs_in\u001b[0m\u001b[0;34m[\u001b[0m\u001b[0me\u001b[0m\u001b[0;34m.\u001b[0m\u001b[0mentity\u001b[0m\u001b[0;34m]\u001b[0m \u001b[0;34m=\u001b[0m \u001b[0mapi_instance\u001b[0m\u001b[0;34m.\u001b[0m\u001b[0mlist_entity_neighbors\u001b[0m\u001b[0;34m(\u001b[0m\u001b[0mCURRENCY\u001b[0m\u001b[0;34m,\u001b[0m \u001b[0me\u001b[0m\u001b[0;34m.\u001b[0m\u001b[0mentity\u001b[0m\u001b[0;34m,\u001b[0m \u001b[0;34m'in'\u001b[0m\u001b[0;34m)\u001b[0m\u001b[0;34m\u001b[0m\u001b[0;34m\u001b[0m\u001b[0m\n\u001b[0m\u001b[1;32m     10\u001b[0m         \u001b[0;32mif\u001b[0m \u001b[0me\u001b[0m\u001b[0;34m.\u001b[0m\u001b[0mentity\u001b[0m \u001b[0;32mnot\u001b[0m \u001b[0;32min\u001b[0m \u001b[0mentity_nbrs_out\u001b[0m\u001b[0;34m:\u001b[0m\u001b[0;34m\u001b[0m\u001b[0;34m\u001b[0m\u001b[0m\n\u001b[1;32m     11\u001b[0m             \u001b[0mentity_nbrs_out\u001b[0m\u001b[0;34m[\u001b[0m\u001b[0me\u001b[0m\u001b[0;34m.\u001b[0m\u001b[0mentity\u001b[0m\u001b[0;34m]\u001b[0m \u001b[0;34m=\u001b[0m \u001b[0mapi_instance\u001b[0m\u001b[0;34m.\u001b[0m\u001b[0mlist_entity_neighbors\u001b[0m\u001b[0;34m(\u001b[0m\u001b[0mCURRENCY\u001b[0m\u001b[0;34m,\u001b[0m \u001b[0me\u001b[0m\u001b[0;34m.\u001b[0m\u001b[0mentity\u001b[0m\u001b[0;34m,\u001b[0m \u001b[0;34m'out'\u001b[0m\u001b[0;34m)\u001b[0m\u001b[0;34m\u001b[0m\u001b[0;34m\u001b[0m\u001b[0m\n",
      "\u001b[0;32m~/Documents/code/graphsense/graphsense-python/venv-gpython/lib/python3.9/site-packages/graphsense/api_client.py\u001b[0m in \u001b[0;36m__call__\u001b[0;34m(self, *args, **kwargs)\u001b[0m\n\u001b[1;32m    769\u001b[0m \u001b[0;34m\u001b[0m\u001b[0m\n\u001b[1;32m    770\u001b[0m         \"\"\"\n\u001b[0;32m--> 771\u001b[0;31m         \u001b[0;32mreturn\u001b[0m \u001b[0mself\u001b[0m\u001b[0;34m.\u001b[0m\u001b[0mcallable\u001b[0m\u001b[0;34m(\u001b[0m\u001b[0mself\u001b[0m\u001b[0;34m,\u001b[0m \u001b[0;34m*\u001b[0m\u001b[0margs\u001b[0m\u001b[0;34m,\u001b[0m \u001b[0;34m**\u001b[0m\u001b[0mkwargs\u001b[0m\u001b[0;34m)\u001b[0m\u001b[0;34m\u001b[0m\u001b[0;34m\u001b[0m\u001b[0m\n\u001b[0m\u001b[1;32m    772\u001b[0m \u001b[0;34m\u001b[0m\u001b[0m\n\u001b[1;32m    773\u001b[0m     \u001b[0;32mdef\u001b[0m \u001b[0mcall_with_http_info\u001b[0m\u001b[0;34m(\u001b[0m\u001b[0mself\u001b[0m\u001b[0;34m,\u001b[0m \u001b[0;34m**\u001b[0m\u001b[0mkwargs\u001b[0m\u001b[0;34m)\u001b[0m\u001b[0;34m:\u001b[0m\u001b[0;34m\u001b[0m\u001b[0;34m\u001b[0m\u001b[0m\n",
      "\u001b[0;32m~/Documents/code/graphsense/graphsense-python/venv-gpython/lib/python3.9/site-packages/graphsense/api/entities_api.py\u001b[0m in \u001b[0;36m__list_entity_neighbors\u001b[0;34m(self, currency, entity, direction, **kwargs)\u001b[0m\n\u001b[1;32m    796\u001b[0m             \u001b[0mkwargs\u001b[0m\u001b[0;34m[\u001b[0m\u001b[0;34m'direction'\u001b[0m\u001b[0;34m]\u001b[0m \u001b[0;34m=\u001b[0m\u001b[0;31m \u001b[0m\u001b[0;31m\\\u001b[0m\u001b[0;34m\u001b[0m\u001b[0;34m\u001b[0m\u001b[0m\n\u001b[1;32m    797\u001b[0m                 \u001b[0mdirection\u001b[0m\u001b[0;34m\u001b[0m\u001b[0;34m\u001b[0m\u001b[0m\n\u001b[0;32m--> 798\u001b[0;31m             \u001b[0;32mreturn\u001b[0m \u001b[0mself\u001b[0m\u001b[0;34m.\u001b[0m\u001b[0mcall_with_http_info\u001b[0m\u001b[0;34m(\u001b[0m\u001b[0;34m**\u001b[0m\u001b[0mkwargs\u001b[0m\u001b[0;34m)\u001b[0m\u001b[0;34m\u001b[0m\u001b[0;34m\u001b[0m\u001b[0m\n\u001b[0m\u001b[1;32m    799\u001b[0m \u001b[0;34m\u001b[0m\u001b[0m\n\u001b[1;32m    800\u001b[0m         self.list_entity_neighbors = _Endpoint(\n",
      "\u001b[0;32m~/Documents/code/graphsense/graphsense-python/venv-gpython/lib/python3.9/site-packages/graphsense/api_client.py\u001b[0m in \u001b[0;36mcall_with_http_info\u001b[0;34m(self, **kwargs)\u001b[0m\n\u001b[1;32m    831\u001b[0m             \u001b[0mparams\u001b[0m\u001b[0;34m[\u001b[0m\u001b[0;34m'header'\u001b[0m\u001b[0;34m]\u001b[0m\u001b[0;34m[\u001b[0m\u001b[0;34m'Content-Type'\u001b[0m\u001b[0;34m]\u001b[0m \u001b[0;34m=\u001b[0m \u001b[0mheader_list\u001b[0m\u001b[0;34m\u001b[0m\u001b[0;34m\u001b[0m\u001b[0m\n\u001b[1;32m    832\u001b[0m \u001b[0;34m\u001b[0m\u001b[0m\n\u001b[0;32m--> 833\u001b[0;31m         return self.api_client.call_api(\n\u001b[0m\u001b[1;32m    834\u001b[0m             \u001b[0mself\u001b[0m\u001b[0;34m.\u001b[0m\u001b[0msettings\u001b[0m\u001b[0;34m[\u001b[0m\u001b[0;34m'endpoint_path'\u001b[0m\u001b[0;34m]\u001b[0m\u001b[0;34m,\u001b[0m \u001b[0mself\u001b[0m\u001b[0;34m.\u001b[0m\u001b[0msettings\u001b[0m\u001b[0;34m[\u001b[0m\u001b[0;34m'http_method'\u001b[0m\u001b[0;34m]\u001b[0m\u001b[0;34m,\u001b[0m\u001b[0;34m\u001b[0m\u001b[0;34m\u001b[0m\u001b[0m\n\u001b[1;32m    835\u001b[0m             \u001b[0mparams\u001b[0m\u001b[0;34m[\u001b[0m\u001b[0;34m'path'\u001b[0m\u001b[0;34m]\u001b[0m\u001b[0;34m,\u001b[0m\u001b[0;34m\u001b[0m\u001b[0;34m\u001b[0m\u001b[0m\n",
      "\u001b[0;32m~/Documents/code/graphsense/graphsense-python/venv-gpython/lib/python3.9/site-packages/graphsense/api_client.py\u001b[0m in \u001b[0;36mcall_api\u001b[0;34m(self, resource_path, method, path_params, query_params, header_params, body, post_params, files, response_type, auth_settings, async_req, _return_http_data_only, collection_formats, _preload_content, _request_timeout, _host, _check_type)\u001b[0m\n\u001b[1;32m    406\u001b[0m         \"\"\"\n\u001b[1;32m    407\u001b[0m         \u001b[0;32mif\u001b[0m \u001b[0;32mnot\u001b[0m \u001b[0masync_req\u001b[0m\u001b[0;34m:\u001b[0m\u001b[0;34m\u001b[0m\u001b[0;34m\u001b[0m\u001b[0m\n\u001b[0;32m--> 408\u001b[0;31m             return self.__call_api(resource_path, method,\n\u001b[0m\u001b[1;32m    409\u001b[0m                                    \u001b[0mpath_params\u001b[0m\u001b[0;34m,\u001b[0m \u001b[0mquery_params\u001b[0m\u001b[0;34m,\u001b[0m \u001b[0mheader_params\u001b[0m\u001b[0;34m,\u001b[0m\u001b[0;34m\u001b[0m\u001b[0;34m\u001b[0m\u001b[0m\n\u001b[1;32m    410\u001b[0m                                    \u001b[0mbody\u001b[0m\u001b[0;34m,\u001b[0m \u001b[0mpost_params\u001b[0m\u001b[0;34m,\u001b[0m \u001b[0mfiles\u001b[0m\u001b[0;34m,\u001b[0m\u001b[0;34m\u001b[0m\u001b[0;34m\u001b[0m\u001b[0m\n",
      "\u001b[0;32m~/Documents/code/graphsense/graphsense-python/venv-gpython/lib/python3.9/site-packages/graphsense/api_client.py\u001b[0m in \u001b[0;36m__call_api\u001b[0;34m(self, resource_path, method, path_params, query_params, header_params, body, post_params, files, response_type, auth_settings, _return_http_data_only, collection_formats, _preload_content, _request_timeout, _host, _check_type)\u001b[0m\n\u001b[1;32m    221\u001b[0m                 \u001b[0mresponse_data\u001b[0m\u001b[0;34m.\u001b[0m\u001b[0mdata\u001b[0m \u001b[0;34m=\u001b[0m \u001b[0mresponse_data\u001b[0m\u001b[0;34m.\u001b[0m\u001b[0mdata\u001b[0m\u001b[0;34m.\u001b[0m\u001b[0mdecode\u001b[0m\u001b[0;34m(\u001b[0m\u001b[0mencoding\u001b[0m\u001b[0;34m)\u001b[0m\u001b[0;34m\u001b[0m\u001b[0;34m\u001b[0m\u001b[0m\n\u001b[1;32m    222\u001b[0m \u001b[0;34m\u001b[0m\u001b[0m\n\u001b[0;32m--> 223\u001b[0;31m             return_data = self.deserialize(\n\u001b[0m\u001b[1;32m    224\u001b[0m                 \u001b[0mresponse_data\u001b[0m\u001b[0;34m,\u001b[0m\u001b[0;34m\u001b[0m\u001b[0;34m\u001b[0m\u001b[0m\n\u001b[1;32m    225\u001b[0m                 \u001b[0mresponse_type\u001b[0m\u001b[0;34m,\u001b[0m\u001b[0;34m\u001b[0m\u001b[0;34m\u001b[0m\u001b[0m\n",
      "\u001b[0;32m~/Documents/code/graphsense/graphsense-python/venv-gpython/lib/python3.9/site-packages/graphsense/api_client.py\u001b[0m in \u001b[0;36mdeserialize\u001b[0;34m(self, response, response_type, _check_type)\u001b[0m\n\u001b[1;32m    322\u001b[0m         \u001b[0;31m# store our data under the key of 'received_data' so users have some\u001b[0m\u001b[0;34m\u001b[0m\u001b[0;34m\u001b[0m\u001b[0;34m\u001b[0m\u001b[0m\n\u001b[1;32m    323\u001b[0m         \u001b[0;31m# context if they are deserializing a string and the data type is wrong\u001b[0m\u001b[0;34m\u001b[0m\u001b[0;34m\u001b[0m\u001b[0;34m\u001b[0m\u001b[0m\n\u001b[0;32m--> 324\u001b[0;31m         deserialized_data = validate_and_convert_types(\n\u001b[0m\u001b[1;32m    325\u001b[0m             \u001b[0mreceived_data\u001b[0m\u001b[0;34m,\u001b[0m\u001b[0;34m\u001b[0m\u001b[0;34m\u001b[0m\u001b[0m\n\u001b[1;32m    326\u001b[0m             \u001b[0mresponse_type\u001b[0m\u001b[0;34m,\u001b[0m\u001b[0;34m\u001b[0m\u001b[0;34m\u001b[0m\u001b[0m\n",
      "\u001b[0;32m~/Documents/code/graphsense/graphsense-python/venv-gpython/lib/python3.9/site-packages/graphsense/model_utils.py\u001b[0m in \u001b[0;36mvalidate_and_convert_types\u001b[0;34m(input_value, required_types_mixed, path_to_item, spec_property_naming, _check_type, configuration)\u001b[0m\n\u001b[1;32m   1392\u001b[0m         \u001b[0;32mif\u001b[0m \u001b[0mconfiguration\u001b[0m\u001b[0;34m:\u001b[0m\u001b[0;34m\u001b[0m\u001b[0;34m\u001b[0m\u001b[0m\n\u001b[1;32m   1393\u001b[0m             \u001b[0;31m# if input_value is not valid_type try to convert it\u001b[0m\u001b[0;34m\u001b[0m\u001b[0;34m\u001b[0m\u001b[0;34m\u001b[0m\u001b[0m\n\u001b[0;32m-> 1394\u001b[0;31m             converted_instance = attempt_convert_item(\n\u001b[0m\u001b[1;32m   1395\u001b[0m                 \u001b[0minput_value\u001b[0m\u001b[0;34m,\u001b[0m\u001b[0;34m\u001b[0m\u001b[0;34m\u001b[0m\u001b[0m\n\u001b[1;32m   1396\u001b[0m                 \u001b[0mvalid_classes\u001b[0m\u001b[0;34m,\u001b[0m\u001b[0;34m\u001b[0m\u001b[0;34m\u001b[0m\u001b[0m\n",
      "\u001b[0;32m~/Documents/code/graphsense/graphsense-python/venv-gpython/lib/python3.9/site-packages/graphsense/model_utils.py\u001b[0m in \u001b[0;36mattempt_convert_item\u001b[0;34m(input_value, valid_classes, path_to_item, configuration, spec_property_naming, key_type, must_convert, check_type)\u001b[0m\n\u001b[1;32m   1279\u001b[0m         \u001b[0;32mtry\u001b[0m\u001b[0;34m:\u001b[0m\u001b[0;34m\u001b[0m\u001b[0;34m\u001b[0m\u001b[0m\n\u001b[1;32m   1280\u001b[0m             \u001b[0;32mif\u001b[0m \u001b[0missubclass\u001b[0m\u001b[0;34m(\u001b[0m\u001b[0mvalid_class\u001b[0m\u001b[0;34m,\u001b[0m \u001b[0mOpenApiModel\u001b[0m\u001b[0;34m)\u001b[0m\u001b[0;34m:\u001b[0m\u001b[0;34m\u001b[0m\u001b[0;34m\u001b[0m\u001b[0m\n\u001b[0;32m-> 1281\u001b[0;31m                 return deserialize_model(input_value, valid_class,\n\u001b[0m\u001b[1;32m   1282\u001b[0m                                          \u001b[0mpath_to_item\u001b[0m\u001b[0;34m,\u001b[0m \u001b[0mcheck_type\u001b[0m\u001b[0;34m,\u001b[0m\u001b[0;34m\u001b[0m\u001b[0;34m\u001b[0m\u001b[0m\n\u001b[1;32m   1283\u001b[0m                                          configuration, spec_property_naming)\n",
      "\u001b[0;32m~/Documents/code/graphsense/graphsense-python/venv-gpython/lib/python3.9/site-packages/graphsense/model_utils.py\u001b[0m in \u001b[0;36mdeserialize_model\u001b[0;34m(model_data, model_class, path_to_item, check_type, configuration, spec_property_naming)\u001b[0m\n\u001b[1;32m   1199\u001b[0m     \u001b[0;32mif\u001b[0m \u001b[0misinstance\u001b[0m\u001b[0;34m(\u001b[0m\u001b[0mmodel_data\u001b[0m\u001b[0;34m,\u001b[0m \u001b[0mdict\u001b[0m\u001b[0;34m)\u001b[0m\u001b[0;34m:\u001b[0m\u001b[0;34m\u001b[0m\u001b[0;34m\u001b[0m\u001b[0m\n\u001b[1;32m   1200\u001b[0m         \u001b[0mkw_args\u001b[0m\u001b[0;34m.\u001b[0m\u001b[0mupdate\u001b[0m\u001b[0;34m(\u001b[0m\u001b[0mmodel_data\u001b[0m\u001b[0;34m)\u001b[0m\u001b[0;34m\u001b[0m\u001b[0;34m\u001b[0m\u001b[0m\n\u001b[0;32m-> 1201\u001b[0;31m         \u001b[0;32mreturn\u001b[0m \u001b[0mmodel_class\u001b[0m\u001b[0;34m(\u001b[0m\u001b[0;34m**\u001b[0m\u001b[0mkw_args\u001b[0m\u001b[0;34m)\u001b[0m\u001b[0;34m\u001b[0m\u001b[0;34m\u001b[0m\u001b[0m\n\u001b[0m\u001b[1;32m   1202\u001b[0m     \u001b[0;32melif\u001b[0m \u001b[0misinstance\u001b[0m\u001b[0;34m(\u001b[0m\u001b[0mmodel_data\u001b[0m\u001b[0;34m,\u001b[0m \u001b[0mPRIMITIVE_TYPES\u001b[0m\u001b[0;34m)\u001b[0m\u001b[0;34m:\u001b[0m\u001b[0;34m\u001b[0m\u001b[0;34m\u001b[0m\u001b[0m\n\u001b[1;32m   1203\u001b[0m         \u001b[0;32mreturn\u001b[0m \u001b[0mmodel_class\u001b[0m\u001b[0;34m(\u001b[0m\u001b[0mmodel_data\u001b[0m\u001b[0;34m,\u001b[0m \u001b[0;34m**\u001b[0m\u001b[0mkw_args\u001b[0m\u001b[0;34m)\u001b[0m\u001b[0;34m\u001b[0m\u001b[0;34m\u001b[0m\u001b[0m\n",
      "\u001b[0;32m~/Documents/code/graphsense/graphsense-python/venv-gpython/lib/python3.9/site-packages/graphsense/model_utils.py\u001b[0m in \u001b[0;36mwrapped_init\u001b[0;34m(_self, *args, **kwargs)\u001b[0m\n\u001b[1;32m   1575\u001b[0m         \u001b[0;32mif\u001b[0m \u001b[0mspec_property_naming\u001b[0m\u001b[0;34m:\u001b[0m\u001b[0;34m\u001b[0m\u001b[0;34m\u001b[0m\u001b[0m\n\u001b[1;32m   1576\u001b[0m             \u001b[0mkwargs\u001b[0m \u001b[0;34m=\u001b[0m \u001b[0mchange_keys_js_to_python\u001b[0m\u001b[0;34m(\u001b[0m\u001b[0mkwargs\u001b[0m\u001b[0;34m,\u001b[0m \u001b[0m_self\u001b[0m\u001b[0;34m.\u001b[0m\u001b[0m__class__\u001b[0m\u001b[0;34m)\u001b[0m\u001b[0;34m\u001b[0m\u001b[0;34m\u001b[0m\u001b[0m\n\u001b[0;32m-> 1577\u001b[0;31m         \u001b[0;32mreturn\u001b[0m \u001b[0mfn\u001b[0m\u001b[0;34m(\u001b[0m\u001b[0m_self\u001b[0m\u001b[0;34m,\u001b[0m \u001b[0;34m*\u001b[0m\u001b[0margs\u001b[0m\u001b[0;34m,\u001b[0m \u001b[0;34m**\u001b[0m\u001b[0mkwargs\u001b[0m\u001b[0;34m)\u001b[0m\u001b[0;34m\u001b[0m\u001b[0;34m\u001b[0m\u001b[0m\n\u001b[0m\u001b[1;32m   1578\u001b[0m     \u001b[0;32mreturn\u001b[0m \u001b[0mwrapped_init\u001b[0m\u001b[0;34m\u001b[0m\u001b[0;34m\u001b[0m\u001b[0m\n\u001b[1;32m   1579\u001b[0m \u001b[0;34m\u001b[0m\u001b[0m\n",
      "\u001b[0;32m~/Documents/code/graphsense/graphsense-python/venv-gpython/lib/python3.9/site-packages/graphsense/model/neighbors.py\u001b[0m in \u001b[0;36m__init__\u001b[0;34m(self, *args, **kwargs)\u001b[0m\n\u001b[1;32m    172\u001b[0m                 \u001b[0;31m# discard variable.\u001b[0m\u001b[0;34m\u001b[0m\u001b[0;34m\u001b[0m\u001b[0;34m\u001b[0m\u001b[0m\n\u001b[1;32m    173\u001b[0m                 \u001b[0;32mcontinue\u001b[0m\u001b[0;34m\u001b[0m\u001b[0;34m\u001b[0m\u001b[0m\n\u001b[0;32m--> 174\u001b[0;31m             \u001b[0msetattr\u001b[0m\u001b[0;34m(\u001b[0m\u001b[0mself\u001b[0m\u001b[0;34m,\u001b[0m \u001b[0mvar_name\u001b[0m\u001b[0;34m,\u001b[0m \u001b[0mvar_value\u001b[0m\u001b[0;34m)\u001b[0m\u001b[0;34m\u001b[0m\u001b[0;34m\u001b[0m\u001b[0m\n\u001b[0m",
      "\u001b[0;32m~/Documents/code/graphsense/graphsense-python/venv-gpython/lib/python3.9/site-packages/graphsense/model_utils.py\u001b[0m in \u001b[0;36m__setattr__\u001b[0;34m(self, attr, value)\u001b[0m\n\u001b[1;32m    165\u001b[0m     \u001b[0;32mdef\u001b[0m \u001b[0m__setattr__\u001b[0m\u001b[0;34m(\u001b[0m\u001b[0mself\u001b[0m\u001b[0;34m,\u001b[0m \u001b[0mattr\u001b[0m\u001b[0;34m,\u001b[0m \u001b[0mvalue\u001b[0m\u001b[0;34m)\u001b[0m\u001b[0;34m:\u001b[0m\u001b[0;34m\u001b[0m\u001b[0;34m\u001b[0m\u001b[0m\n\u001b[1;32m    166\u001b[0m         \u001b[0;34m\"\"\"set the value of an attribute using dot notation: `instance.attr = val`\"\"\"\u001b[0m\u001b[0;34m\u001b[0m\u001b[0;34m\u001b[0m\u001b[0m\n\u001b[0;32m--> 167\u001b[0;31m         \u001b[0mself\u001b[0m\u001b[0;34m[\u001b[0m\u001b[0mattr\u001b[0m\u001b[0;34m]\u001b[0m \u001b[0;34m=\u001b[0m \u001b[0mvalue\u001b[0m\u001b[0;34m\u001b[0m\u001b[0;34m\u001b[0m\u001b[0m\n\u001b[0m\u001b[1;32m    168\u001b[0m \u001b[0;34m\u001b[0m\u001b[0m\n\u001b[1;32m    169\u001b[0m     \u001b[0;32mdef\u001b[0m \u001b[0m__getattr__\u001b[0m\u001b[0;34m(\u001b[0m\u001b[0mself\u001b[0m\u001b[0;34m,\u001b[0m \u001b[0mattr\u001b[0m\u001b[0;34m)\u001b[0m\u001b[0;34m:\u001b[0m\u001b[0;34m\u001b[0m\u001b[0;34m\u001b[0m\u001b[0m\n",
      "\u001b[0;32m~/Documents/code/graphsense/graphsense-python/venv-gpython/lib/python3.9/site-packages/graphsense/model_utils.py\u001b[0m in \u001b[0;36m__setitem__\u001b[0;34m(self, name, value)\u001b[0m\n\u001b[1;32m    350\u001b[0m             \u001b[0;32mreturn\u001b[0m\u001b[0;34m\u001b[0m\u001b[0;34m\u001b[0m\u001b[0m\n\u001b[1;32m    351\u001b[0m \u001b[0;34m\u001b[0m\u001b[0m\n\u001b[0;32m--> 352\u001b[0;31m         \u001b[0mself\u001b[0m\u001b[0;34m.\u001b[0m\u001b[0mset_attribute\u001b[0m\u001b[0;34m(\u001b[0m\u001b[0mname\u001b[0m\u001b[0;34m,\u001b[0m \u001b[0mvalue\u001b[0m\u001b[0;34m)\u001b[0m\u001b[0;34m\u001b[0m\u001b[0;34m\u001b[0m\u001b[0m\n\u001b[0m\u001b[1;32m    353\u001b[0m \u001b[0;34m\u001b[0m\u001b[0m\n\u001b[1;32m    354\u001b[0m     \u001b[0;32mdef\u001b[0m \u001b[0mget\u001b[0m\u001b[0;34m(\u001b[0m\u001b[0mself\u001b[0m\u001b[0;34m,\u001b[0m \u001b[0mname\u001b[0m\u001b[0;34m,\u001b[0m \u001b[0mdefault\u001b[0m\u001b[0;34m=\u001b[0m\u001b[0;32mNone\u001b[0m\u001b[0;34m)\u001b[0m\u001b[0;34m:\u001b[0m\u001b[0;34m\u001b[0m\u001b[0;34m\u001b[0m\u001b[0m\n",
      "\u001b[0;32m~/Documents/code/graphsense/graphsense-python/venv-gpython/lib/python3.9/site-packages/graphsense/model_utils.py\u001b[0m in \u001b[0;36mset_attribute\u001b[0;34m(self, name, value)\u001b[0m\n\u001b[1;32m    137\u001b[0m \u001b[0;34m\u001b[0m\u001b[0m\n\u001b[1;32m    138\u001b[0m         \u001b[0;32mif\u001b[0m \u001b[0mself\u001b[0m\u001b[0;34m.\u001b[0m\u001b[0m_check_type\u001b[0m\u001b[0;34m:\u001b[0m\u001b[0;34m\u001b[0m\u001b[0;34m\u001b[0m\u001b[0m\n\u001b[0;32m--> 139\u001b[0;31m             value = validate_and_convert_types(\n\u001b[0m\u001b[1;32m    140\u001b[0m                 \u001b[0mvalue\u001b[0m\u001b[0;34m,\u001b[0m \u001b[0mrequired_types_mixed\u001b[0m\u001b[0;34m,\u001b[0m \u001b[0mpath_to_item\u001b[0m\u001b[0;34m,\u001b[0m \u001b[0mself\u001b[0m\u001b[0;34m.\u001b[0m\u001b[0m_spec_property_naming\u001b[0m\u001b[0;34m,\u001b[0m\u001b[0;34m\u001b[0m\u001b[0;34m\u001b[0m\u001b[0m\n\u001b[1;32m    141\u001b[0m                 self._check_type, configuration=self._configuration)\n",
      "\u001b[0;32m~/Documents/code/graphsense/graphsense-python/venv-gpython/lib/python3.9/site-packages/graphsense/model_utils.py\u001b[0m in \u001b[0;36mvalidate_and_convert_types\u001b[0;34m(input_value, required_types_mixed, path_to_item, spec_property_naming, _check_type, configuration)\u001b[0m\n\u001b[1;32m   1442\u001b[0m             \u001b[0minner_path\u001b[0m \u001b[0;34m=\u001b[0m \u001b[0mlist\u001b[0m\u001b[0;34m(\u001b[0m\u001b[0mpath_to_item\u001b[0m\u001b[0;34m)\u001b[0m\u001b[0;34m\u001b[0m\u001b[0;34m\u001b[0m\u001b[0m\n\u001b[1;32m   1443\u001b[0m             \u001b[0minner_path\u001b[0m\u001b[0;34m.\u001b[0m\u001b[0mappend\u001b[0m\u001b[0;34m(\u001b[0m\u001b[0mindex\u001b[0m\u001b[0;34m)\u001b[0m\u001b[0;34m\u001b[0m\u001b[0;34m\u001b[0m\u001b[0m\n\u001b[0;32m-> 1444\u001b[0;31m             input_value[index] = validate_and_convert_types(\n\u001b[0m\u001b[1;32m   1445\u001b[0m                 \u001b[0minner_value\u001b[0m\u001b[0;34m,\u001b[0m\u001b[0;34m\u001b[0m\u001b[0;34m\u001b[0m\u001b[0m\n\u001b[1;32m   1446\u001b[0m                 \u001b[0minner_required_types\u001b[0m\u001b[0;34m,\u001b[0m\u001b[0;34m\u001b[0m\u001b[0;34m\u001b[0m\u001b[0m\n",
      "\u001b[0;32m~/Documents/code/graphsense/graphsense-python/venv-gpython/lib/python3.9/site-packages/graphsense/model_utils.py\u001b[0m in \u001b[0;36mvalidate_and_convert_types\u001b[0;34m(input_value, required_types_mixed, path_to_item, spec_property_naming, _check_type, configuration)\u001b[0m\n\u001b[1;32m   1392\u001b[0m         \u001b[0;32mif\u001b[0m \u001b[0mconfiguration\u001b[0m\u001b[0;34m:\u001b[0m\u001b[0;34m\u001b[0m\u001b[0;34m\u001b[0m\u001b[0m\n\u001b[1;32m   1393\u001b[0m             \u001b[0;31m# if input_value is not valid_type try to convert it\u001b[0m\u001b[0;34m\u001b[0m\u001b[0;34m\u001b[0m\u001b[0;34m\u001b[0m\u001b[0m\n\u001b[0;32m-> 1394\u001b[0;31m             converted_instance = attempt_convert_item(\n\u001b[0m\u001b[1;32m   1395\u001b[0m                 \u001b[0minput_value\u001b[0m\u001b[0;34m,\u001b[0m\u001b[0;34m\u001b[0m\u001b[0;34m\u001b[0m\u001b[0m\n\u001b[1;32m   1396\u001b[0m                 \u001b[0mvalid_classes\u001b[0m\u001b[0;34m,\u001b[0m\u001b[0;34m\u001b[0m\u001b[0;34m\u001b[0m\u001b[0m\n",
      "\u001b[0;32m~/Documents/code/graphsense/graphsense-python/venv-gpython/lib/python3.9/site-packages/graphsense/model_utils.py\u001b[0m in \u001b[0;36mattempt_convert_item\u001b[0;34m(input_value, valid_classes, path_to_item, configuration, spec_property_naming, key_type, must_convert, check_type)\u001b[0m\n\u001b[1;32m   1279\u001b[0m         \u001b[0;32mtry\u001b[0m\u001b[0;34m:\u001b[0m\u001b[0;34m\u001b[0m\u001b[0;34m\u001b[0m\u001b[0m\n\u001b[1;32m   1280\u001b[0m             \u001b[0;32mif\u001b[0m \u001b[0missubclass\u001b[0m\u001b[0;34m(\u001b[0m\u001b[0mvalid_class\u001b[0m\u001b[0;34m,\u001b[0m \u001b[0mOpenApiModel\u001b[0m\u001b[0;34m)\u001b[0m\u001b[0;34m:\u001b[0m\u001b[0;34m\u001b[0m\u001b[0;34m\u001b[0m\u001b[0m\n\u001b[0;32m-> 1281\u001b[0;31m                 return deserialize_model(input_value, valid_class,\n\u001b[0m\u001b[1;32m   1282\u001b[0m                                          \u001b[0mpath_to_item\u001b[0m\u001b[0;34m,\u001b[0m \u001b[0mcheck_type\u001b[0m\u001b[0;34m,\u001b[0m\u001b[0;34m\u001b[0m\u001b[0;34m\u001b[0m\u001b[0m\n\u001b[1;32m   1283\u001b[0m                                          configuration, spec_property_naming)\n",
      "\u001b[0;32m~/Documents/code/graphsense/graphsense-python/venv-gpython/lib/python3.9/site-packages/graphsense/model_utils.py\u001b[0m in \u001b[0;36mdeserialize_model\u001b[0;34m(model_data, model_class, path_to_item, check_type, configuration, spec_property_naming)\u001b[0m\n\u001b[1;32m   1199\u001b[0m     \u001b[0;32mif\u001b[0m \u001b[0misinstance\u001b[0m\u001b[0;34m(\u001b[0m\u001b[0mmodel_data\u001b[0m\u001b[0;34m,\u001b[0m \u001b[0mdict\u001b[0m\u001b[0;34m)\u001b[0m\u001b[0;34m:\u001b[0m\u001b[0;34m\u001b[0m\u001b[0;34m\u001b[0m\u001b[0m\n\u001b[1;32m   1200\u001b[0m         \u001b[0mkw_args\u001b[0m\u001b[0;34m.\u001b[0m\u001b[0mupdate\u001b[0m\u001b[0;34m(\u001b[0m\u001b[0mmodel_data\u001b[0m\u001b[0;34m)\u001b[0m\u001b[0;34m\u001b[0m\u001b[0;34m\u001b[0m\u001b[0m\n\u001b[0;32m-> 1201\u001b[0;31m         \u001b[0;32mreturn\u001b[0m \u001b[0mmodel_class\u001b[0m\u001b[0;34m(\u001b[0m\u001b[0;34m**\u001b[0m\u001b[0mkw_args\u001b[0m\u001b[0;34m)\u001b[0m\u001b[0;34m\u001b[0m\u001b[0;34m\u001b[0m\u001b[0m\n\u001b[0m\u001b[1;32m   1202\u001b[0m     \u001b[0;32melif\u001b[0m \u001b[0misinstance\u001b[0m\u001b[0;34m(\u001b[0m\u001b[0mmodel_data\u001b[0m\u001b[0;34m,\u001b[0m \u001b[0mPRIMITIVE_TYPES\u001b[0m\u001b[0;34m)\u001b[0m\u001b[0;34m:\u001b[0m\u001b[0;34m\u001b[0m\u001b[0;34m\u001b[0m\u001b[0m\n\u001b[1;32m   1203\u001b[0m         \u001b[0;32mreturn\u001b[0m \u001b[0mmodel_class\u001b[0m\u001b[0;34m(\u001b[0m\u001b[0mmodel_data\u001b[0m\u001b[0;34m,\u001b[0m \u001b[0;34m**\u001b[0m\u001b[0mkw_args\u001b[0m\u001b[0;34m)\u001b[0m\u001b[0;34m\u001b[0m\u001b[0;34m\u001b[0m\u001b[0m\n",
      "\u001b[0;32m~/Documents/code/graphsense/graphsense-python/venv-gpython/lib/python3.9/site-packages/graphsense/model_utils.py\u001b[0m in \u001b[0;36mwrapped_init\u001b[0;34m(_self, *args, **kwargs)\u001b[0m\n\u001b[1;32m   1575\u001b[0m         \u001b[0;32mif\u001b[0m \u001b[0mspec_property_naming\u001b[0m\u001b[0;34m:\u001b[0m\u001b[0;34m\u001b[0m\u001b[0;34m\u001b[0m\u001b[0m\n\u001b[1;32m   1576\u001b[0m             \u001b[0mkwargs\u001b[0m \u001b[0;34m=\u001b[0m \u001b[0mchange_keys_js_to_python\u001b[0m\u001b[0;34m(\u001b[0m\u001b[0mkwargs\u001b[0m\u001b[0;34m,\u001b[0m \u001b[0m_self\u001b[0m\u001b[0;34m.\u001b[0m\u001b[0m__class__\u001b[0m\u001b[0;34m)\u001b[0m\u001b[0;34m\u001b[0m\u001b[0;34m\u001b[0m\u001b[0m\n\u001b[0;32m-> 1577\u001b[0;31m         \u001b[0;32mreturn\u001b[0m \u001b[0mfn\u001b[0m\u001b[0;34m(\u001b[0m\u001b[0m_self\u001b[0m\u001b[0;34m,\u001b[0m \u001b[0;34m*\u001b[0m\u001b[0margs\u001b[0m\u001b[0;34m,\u001b[0m \u001b[0;34m**\u001b[0m\u001b[0mkwargs\u001b[0m\u001b[0;34m)\u001b[0m\u001b[0;34m\u001b[0m\u001b[0;34m\u001b[0m\u001b[0m\n\u001b[0m\u001b[1;32m   1578\u001b[0m     \u001b[0;32mreturn\u001b[0m \u001b[0mwrapped_init\u001b[0m\u001b[0;34m\u001b[0m\u001b[0;34m\u001b[0m\u001b[0m\n\u001b[1;32m   1579\u001b[0m \u001b[0;34m\u001b[0m\u001b[0m\n",
      "\u001b[0;31mTypeError\u001b[0m: __init__() missing 1 required positional argument: 'has_labels'"
     ]
    }
   ],
   "source": [
    "entity_nbrs_in = dict()\n",
    "entity_nbrs_out = dict()\n",
    "\n",
    "with graphsense.ApiClient(configuration) as api_client:\n",
    "    api_instance = entities_api.EntitiesApi(api_client)\n",
    "    for i, e in enumerate(filtered_entities):\n",
    "        print(i+1, end='\\r')\n",
    "        if e.entity not in entity_nbrs_in:\n",
    "            entity_nbrs_in[e.entity] = api_instance.list_entity_neighbors(CURRENCY, e.entity, 'in')\n",
    "        if e.entity not in entity_nbrs_out:\n",
    "            entity_nbrs_out[e.entity] = api_instance.list_entity_neighbors(CURRENCY, e.entity, 'out')"
   ]
  },
  {
   "cell_type": "markdown",
   "id": "10c82b6b",
   "metadata": {},
   "source": [
    "To get an overview, we count the number of incoming and outgoing entities"
   ]
  },
  {
   "cell_type": "code",
   "execution_count": null,
   "id": "525ba96f",
   "metadata": {},
   "outputs": [],
   "source": [
    "no_incoming_entities = {key:len(entity_nbrs_in[key].neighbors) for key in entity_nbrs_in}\n",
    "\n",
    "no_outgoing_entities = {key:len(entity_nbrs_out[key].neighbors) for key in entity_nbrs_out}"
   ]
  },
  {
   "cell_type": "code",
   "execution_count": null,
   "id": "1434652f",
   "metadata": {},
   "outputs": [],
   "source": [
    "plt.hist(no_incoming_entities.values(), bins = 40)\n",
    "plt.ylabel('Number of entities')\n",
    "plt.xlabel('Number of incoming entities')\n",
    "plt.yscale('log')\n",
    "plt.show()"
   ]
  },
  {
   "cell_type": "code",
   "execution_count": null,
   "id": "66afaa49",
   "metadata": {},
   "outputs": [],
   "source": [
    "plt.hist(no_outgoing_entities.values(), bins = 40)\n",
    "plt.ylabel('Number of entities')\n",
    "plt.xlabel('Number of incoming entities')\n",
    "plt.yscale('log')\n",
    "plt.show()"
   ]
  },
  {
   "cell_type": "markdown",
   "id": "8ee1c76b",
   "metadata": {},
   "source": [
    "## Q5: Can we find any known entities (e.g., exchanges) in the digital money trace?"
   ]
  },
  {
   "cell_type": "code",
   "execution_count": null,
   "id": "90e7abf4",
   "metadata": {},
   "outputs": [],
   "source": [
    "entity_labels = {}\n",
    "\n",
    "# Collect IDs of those incoming entities that carry labels\n",
    "known_incoming_entities = []\n",
    "\n",
    "for neighbors in entity_nbrs_in.values():\n",
    "    for neighbor in neighbors.neighbors:\n",
    "        if neighbor.has_labels:\n",
    "            known_incoming_entities.append(int(neighbor.id))\n",
    "            \n",
    "# Now collect tags for these entities\n",
    "with graphsense.ApiClient(configuration) as api_client:\n",
    "    api_instance = entities_api.EntitiesApi(api_client)\n",
    "    try:\n",
    "        for e in set(known_incoming_entities):\n",
    "            tags = api_instance.list_tags_by_entity(CURRENCY, e)\n",
    "            for tag in tags['entity_tags']:\n",
    "                pprint(tag.label)\n",
    "                entity_labels[e] = tag.label\n",
    "    except graphsense.ApiException as e:\n",
    "        print(\"Exception when calling EntitiesApi: %s\\n\" % e)"
   ]
  },
  {
   "cell_type": "code",
   "execution_count": null,
   "id": "7b62ee34",
   "metadata": {},
   "outputs": [],
   "source": [
    "# Collect IDs of those outoging entities that carry labels\n",
    "known_outgoing_entities = []\n",
    "\n",
    "for neighbors in entity_nbrs_out.values():\n",
    "    for neighbor in neighbors.neighbors:\n",
    "        if neighbor.has_labels:\n",
    "            known_outgoing_entities.append(int(neighbor.id))\n",
    "\n",
    "# Now collect tags for these entities\n",
    "with graphsense.ApiClient(configuration) as api_client:\n",
    "    api_instance = entities_api.EntitiesApi(api_client)\n",
    "    try:\n",
    "        for e in set(known_outgoing_entities):\n",
    "            tags = api_instance.list_tags_by_entity(CURRENCY, e)\n",
    "            for tag in tags['entity_tags']:\n",
    "                pprint(tag.label)\n",
    "                entity_labels[e] = tag.label\n",
    "    except graphsense.ApiException as e:\n",
    "        print(\"Exception when calling EntitiesApi: %s\\n\" % e)"
   ]
  },
  {
   "cell_type": "markdown",
   "id": "referenced-audit",
   "metadata": {
    "ExecuteTime": {
     "end_time": "2021-03-21T16:28:48.669545Z",
     "start_time": "2021-03-21T16:28:48.667250Z"
    }
   },
   "source": [
    "## Network Visualization\n",
    "\n",
    "Finally, we build and visualize a network showing the entities we just identified and collected."
   ]
  },
  {
   "cell_type": "code",
   "execution_count": null,
   "id": "0ea1edd7",
   "metadata": {},
   "outputs": [],
   "source": [
    "import networkx as nx\n",
    "import matplotlib.pyplot as plt"
   ]
  },
  {
   "cell_type": "markdown",
   "id": "8f29fe4e",
   "metadata": {},
   "source": [
    "### Entities sending money to sextortion addresses"
   ]
  },
  {
   "cell_type": "code",
   "execution_count": null,
   "id": "impossible-carter",
   "metadata": {
    "ExecuteTime": {
     "end_time": "2021-03-23T08:45:44.699178Z",
     "start_time": "2021-03-23T08:45:44.689051Z"
    }
   },
   "outputs": [],
   "source": [
    "g = nx.DiGraph()\n",
    "for (entity, neighbors) in entity_nbrs_in.items():\n",
    "    for neighbor in neighbors.neighbors:\n",
    "        if neighbor.has_labels:\n",
    "            g.add_edge(neighbor['id'], entity)\n",
    "            g.add_node(entity, label='sextortion')\n",
    "            if int(neighbor['id']) in entity_labels:\n",
    "                g.add_node(neighbor['id'], label=entity_labels[int(neighbor['id'])])\n",
    "            else:\n",
    "                g.add_node(neighbor['id'], label='Unknown')                "
   ]
  },
  {
   "cell_type": "code",
   "execution_count": null,
   "id": "92d9810e",
   "metadata": {},
   "outputs": [],
   "source": [
    "print(f\"Number of nodes: {g.number_of_nodes()}\")\n",
    "print(f\"Number of edges: {g.number_of_edges()}\")"
   ]
  },
  {
   "cell_type": "code",
   "execution_count": null,
   "id": "a3d9b17a",
   "metadata": {},
   "outputs": [],
   "source": [
    "node_colours = []\n",
    "\n",
    "for node_id, values in list(g.nodes(data=True)):\n",
    "    if(values['label'] == 'sextortion'):\n",
    "        node_colours.append('red')\n",
    "    else:\n",
    "        node_colours.append('green')"
   ]
  },
  {
   "cell_type": "code",
   "execution_count": null,
   "id": "eight-lingerie",
   "metadata": {
    "ExecuteTime": {
     "end_time": "2021-03-23T08:45:54.643107Z",
     "start_time": "2021-03-23T08:45:54.541921Z"
    }
   },
   "outputs": [],
   "source": [
    "pos = nx.fruchterman_reingold_layout(g)\n",
    "plt.figure(figsize=(12, 8))\n",
    "plt.title.text = \"Known entities sending money to addresses involved in sexytortion spam.\"\n",
    "nx.draw(g, \n",
    "        edge_color='lightgrey',\n",
    "        node_color=node_colours,\n",
    "        node_size=12,\n",
    "        pos=pos)\n"
   ]
  },
  {
   "cell_type": "markdown",
   "id": "ced01e3e",
   "metadata": {},
   "source": [
    "### Entities receiving money from sextortion addresses"
   ]
  },
  {
   "cell_type": "code",
   "execution_count": null,
   "id": "c3ae0b7b",
   "metadata": {
    "ExecuteTime": {
     "end_time": "2021-03-23T08:45:44.699178Z",
     "start_time": "2021-03-23T08:45:44.689051Z"
    }
   },
   "outputs": [],
   "source": [
    "g = nx.DiGraph()\n",
    "for (entity, neighbors) in entity_nbrs_out.items():\n",
    "    for neighbor in neighbors.neighbors:\n",
    "        if neighbor.has_labels:\n",
    "            g.add_edge(entity, neighbor['id'])\n",
    "            g.add_node(entity, label='sextortion')\n",
    "            if int(neighbor['id']) in entity_labels:\n",
    "                g.add_node(neighbor['id'], label=entity_labels[int(neighbor['id'])])\n",
    "            else:\n",
    "                g.add_node(neighbor['id'], label='Unknown')                "
   ]
  },
  {
   "cell_type": "code",
   "execution_count": null,
   "id": "fc4f6e2e",
   "metadata": {},
   "outputs": [],
   "source": [
    "print(f\"Number of nodes: {g.number_of_nodes()}\")\n",
    "print(f\"Number of edges: {g.number_of_edges()}\")"
   ]
  },
  {
   "cell_type": "code",
   "execution_count": null,
   "id": "18f0f700",
   "metadata": {},
   "outputs": [],
   "source": [
    "node_colours = []\n",
    "label_dict = {}\n",
    "\n",
    "for node_id, values in list(g.nodes(data=True)):\n",
    "    if(values['label'] == 'sextortion'):\n",
    "        node_colours.append('red')\n",
    "    else:\n",
    "        node_colours.append('green')\n",
    "        label_dict[node_id] = node_id"
   ]
  },
  {
   "cell_type": "code",
   "execution_count": null,
   "id": "4ec1ee62",
   "metadata": {
    "ExecuteTime": {
     "end_time": "2021-03-23T08:45:54.643107Z",
     "start_time": "2021-03-23T08:45:54.541921Z"
    }
   },
   "outputs": [],
   "source": [
    "pos = nx.fruchterman_reingold_layout(g)\n",
    "plt.figure(figsize=(12, 8))\n",
    "plt.title.text = \"Known entities sending money to addresses involved in sexytortion spam.\"\n",
    "nx.draw(g, \n",
    "        edge_color='lightgrey',\n",
    "        node_color=node_colours,\n",
    "        node_size=12,\n",
    "        labels=label_dict,\n",
    "        with_labels=True,\n",
    "        pos=pos)\n"
   ]
  }
 ],
 "metadata": {
  "hide_input": false,
  "kernelspec": {
   "display_name": "venv-gpython",
   "language": "python",
   "name": "venv-gpython"
  },
  "language_info": {
   "codemirror_mode": {
    "name": "ipython",
    "version": 3
   },
   "file_extension": ".py",
   "mimetype": "text/x-python",
   "name": "python",
   "nbconvert_exporter": "python",
   "pygments_lexer": "ipython3",
   "version": "3.9.5"
  }
 },
 "nbformat": 4,
 "nbformat_minor": 5
}
