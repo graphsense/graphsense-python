{
 "cells": [
  {
   "cell_type": "markdown",
   "id": "turned-startup",
   "metadata": {
    "ExecuteTime": {
     "end_time": "2021-03-22T08:41:40.812538Z",
     "start_time": "2021-03-22T08:41:40.809610Z"
    }
   },
   "source": [
    "# Sextortion Investigation Demo\n",
    "\n",
    "In this demo we will investigate Bitcoin addresses that received money from Sextortion Spam victims. The data from this demo is taken from our study [Spams meet Cryptocurrencies: Sextortion in the Bitcoin Ecosystem](https://arxiv.org/abs/1908.01051) and is a subset of [all the 12,533 Bitcoin addresses](https://github.com/MatteoRomiti/Sextortion_Spam_Bitcoin) we have collected from 4,340,736 sextortion spam emails.\n",
    "\n",
    "The data for this demo is available in `./examples/data/sextortion_addresses.json`\n",
    "\n",
    "We are going to answer the following questions:\n",
    "\n",
    "* Q1: How many USD did the input addresses receive in total?\n",
    "\n",
    "* Q2: How many USD did the corresponding entities receive in total?\n",
    "\n",
    "* Q3: How many addresses are controlled by these entities?\n",
    "\n",
    "* Q4: Where did the money come from, where did it go to?\n",
    "\n",
    "* Q5: Can we find any known entities (e.g., exchanges) in the digital money trace?"
   ]
  },
  {
   "cell_type": "markdown",
   "id": "a38755d3",
   "metadata": {},
   "source": [
    "## Preparations"
   ]
  },
  {
   "cell_type": "markdown",
   "id": "a0b3e94f",
   "metadata": {},
   "source": [
    "First, we install the graphsense-python package as described in the [README](https://github.com/graphsense/graphsense-python/blob/master/README.md) of this repository. Import the package and configure the API endpoint. An API key for the public GraphSense demo API can be requested by sending an email to contact@graphense.info."
   ]
  },
  {
   "cell_type": "code",
   "execution_count": 1,
   "id": "68589d91",
   "metadata": {},
   "outputs": [],
   "source": [
    "import graphsense\n",
    "from graphsense.api import addresses_api, blocks_api, entities_api, general_api, bulk_api\n",
    "\n",
    "import json\n",
    "\n",
    "from pprint import pprint"
   ]
  },
  {
   "cell_type": "markdown",
   "id": "89b7a802",
   "metadata": {},
   "source": [
    "## Load host and API key from config\n"
   ]
  },
  {
   "cell_type": "code",
   "execution_count": 2,
   "id": "dutch-documentation",
   "metadata": {},
   "outputs": [],
   "source": [
    "f = open('config.json')\n",
    "config = json.load(f)\n",
    "f.close()"
   ]
  },
  {
   "cell_type": "markdown",
   "id": "cad380c8",
   "metadata": {},
   "source": [
    "## Configure GraphSense client\n"
   ]
  },
  {
   "cell_type": "markdown",
   "id": "ebf945fa",
   "metadata": {},
   "source": [
    "Now we configure the GraphSense Python library\n",
    "\n"
   ]
  },
  {
   "cell_type": "code",
   "execution_count": 3,
   "id": "57cbaa5d",
   "metadata": {},
   "outputs": [],
   "source": [
    "configuration = graphsense.Configuration(\n",
    "    host = config['graphsense']['host'],\n",
    "    api_key = {'api_key': config['graphsense']['api_key']})"
   ]
  },
  {
   "cell_type": "markdown",
   "id": "c324c997",
   "metadata": {},
   "source": [
    "GraphSenes supports several asset types: Bitcoin (BTC), Bitcoin Cash (BCH), Litecoin (LTC), ZCash (ZEC).\n",
    "\n",
    "We are investigating Bitcoin transactions, therefore we set the default currency to Bitcoin **BTC**."
   ]
  },
  {
   "cell_type": "code",
   "execution_count": 4,
   "id": "9cb2ac5e",
   "metadata": {},
   "outputs": [],
   "source": [
    "CURRENCY = 'btc'"
   ]
  },
  {
   "cell_type": "markdown",
   "id": "68b0c9e9",
   "metadata": {},
   "source": [
    "We can test whether or client works, by checking what data the GraphSense endpoint provides"
   ]
  },
  {
   "cell_type": "code",
   "execution_count": 5,
   "id": "0ae48317",
   "metadata": {},
   "outputs": [
    {
     "name": "stdout",
     "output_type": "stream",
     "text": [
      "{'currencies': [{'name': 'btc',\n",
      "                 'no_address_relations': 6324455334,\n",
      "                 'no_addresses': 999362679,\n",
      "                 'no_blocks': 744618,\n",
      "                 'no_entities': 453401567,\n",
      "                 'no_labels': 989,\n",
      "                 'no_tagged_addresses': 235777372,\n",
      "                 'no_txs': 748154188,\n",
      "                 'timestamp': 1657583636},\n",
      "                {'name': 'bch',\n",
      "                 'no_address_relations': 2252085027,\n",
      "                 'no_addresses': 331665580,\n",
      "                 'no_blocks': 748221,\n",
      "                 'no_entities': 150204333,\n",
      "                 'no_labels': 84,\n",
      "                 'no_tagged_addresses': 13369862,\n",
      "                 'no_txs': 360726433,\n",
      "                 'timestamp': 1657495979},\n",
      "                {'name': 'ltc',\n",
      "                 'no_address_relations': 1273105685,\n",
      "                 'no_addresses': 140510180,\n",
      "                 'no_blocks': 2273844,\n",
      "                 'no_entities': 61175737,\n",
      "                 'no_labels': 64,\n",
      "                 'no_tagged_addresses': 15617993,\n",
      "                 'no_txs': 117408415,\n",
      "                 'timestamp': 1654213858},\n",
      "                {'name': 'zec',\n",
      "                 'no_address_relations': 103938716,\n",
      "                 'no_addresses': 7137233,\n",
      "                 'no_blocks': 1733232,\n",
      "                 'no_entities': 3532632,\n",
      "                 'no_labels': 8,\n",
      "                 'no_tagged_addresses': 651617,\n",
      "                 'no_txs': 11054107,\n",
      "                 'timestamp': 1657497577},\n",
      "                {'name': 'eth',\n",
      "                 'no_address_relations': 514678378,\n",
      "                 'no_addresses': 223139803,\n",
      "                 'no_blocks': 15130977,\n",
      "                 'no_entities': 0,\n",
      "                 'no_labels': 35461,\n",
      "                 'no_tagged_addresses': 41580,\n",
      "                 'no_txs': 1637450490,\n",
      "                 'timestamp': 1657670389}],\n",
      " 'request_timestamp': '2022-07-28 12:49:21',\n",
      " 'version': '1.0.0'}\n"
     ]
    }
   ],
   "source": [
    "with graphsense.ApiClient(configuration) as api_client:\n",
    "    api_instance = general_api.GeneralApi(api_client)\n",
    "    api_response = api_instance.get_statistics()\n",
    "    pprint(api_response)"
   ]
  },
  {
   "cell_type": "markdown",
   "id": "9d9eafb5",
   "metadata": {},
   "source": [
    "Now we load the provided sample Bitcoin addresses\n"
   ]
  },
  {
   "cell_type": "code",
   "execution_count": 6,
   "id": "external-spare",
   "metadata": {
    "ExecuteTime": {
     "end_time": "2021-03-23T08:39:00.964472Z",
     "start_time": "2021-03-23T08:39:00.960454Z"
    }
   },
   "outputs": [
    {
     "name": "stdout",
     "output_type": "stream",
     "text": [
      "'Example address: 1JwRp2J8bQcoG8XTUbxQZaEj9QB4RB6zEa'\n",
      "Total number of addresses: 245\n"
     ]
    }
   ],
   "source": [
    "INPUT_FILE = './data/sextortion_addresses.json' # 245 sextortion addresses\n",
    "with open(INPUT_FILE, 'r') as fp:\n",
    "    input_addresses = json.load(fp)\n",
    "    \n",
    "pprint(f\"Example address: {input_addresses[0]}\")\n",
    "print(f\"Total number of addresses: {len(input_addresses)}\")"
   ]
  },
  {
   "cell_type": "markdown",
   "id": "intended-screw",
   "metadata": {},
   "source": [
    "# Q1. How many USD (US dollars) did the input addresses receive in total?"
   ]
  },
  {
   "cell_type": "code",
   "execution_count": 7,
   "id": "damaged-dealer",
   "metadata": {},
   "outputs": [],
   "source": [
    "with graphsense.ApiClient(configuration) as api_client:\n",
    "    api_instance = bulk_api.BulkApi(api_client)\n",
    "    # Retrieve all addresses in bulk\n",
    "    addresses = api_instance.bulk_json(CURRENCY, \n",
    "                                       operation='get_address',\n",
    "                                       num_pages=1,\n",
    "                                       body={'address':input_addresses})"
   ]
  },
  {
   "cell_type": "code",
   "execution_count": 8,
   "id": "owned-audit",
   "metadata": {
    "ExecuteTime": {
     "end_time": "2021-03-23T08:40:58.763995Z",
     "start_time": "2021-03-23T08:40:58.755781Z"
    }
   },
   "outputs": [
    {
     "name": "stdout",
     "output_type": "stream",
     "text": [
      "245 addresses received 886,352.11 USD\n"
     ]
    }
   ],
   "source": [
    "fiat_values = [fv['value'] \n",
    "               for el in addresses\n",
    "               for fv in el['total_received']['fiat_values']\n",
    "               if fv['code'] == 'usd'\n",
    "               ]\n",
    "total_received = sum(fiat_values)\n",
    "print(\"{} addresses received {:,.2f} USD\".format(len(addresses), total_received))"
   ]
  },
  {
   "cell_type": "markdown",
   "id": "fac75374",
   "metadata": {},
   "source": [
    "# Q2: How many USD did the corresponding entities receive in total?"
   ]
  },
  {
   "cell_type": "markdown",
   "id": "5e4a8ee1",
   "metadata": {},
   "source": [
    "For each address, fetch the corresponding entity and store it in a dict for further use"
   ]
  },
  {
   "cell_type": "code",
   "execution_count": 9,
   "id": "6eae5782",
   "metadata": {},
   "outputs": [],
   "source": [
    "address_entity = dict()  # address, entity_id\n",
    "entities = dict()  # entity_id, details (for later)"
   ]
  },
  {
   "cell_type": "code",
   "execution_count": 10,
   "id": "coated-sapphire",
   "metadata": {
    "ExecuteTime": {
     "end_time": "2021-03-23T08:42:53.131084Z",
     "start_time": "2021-03-23T08:40:58.775071Z"
    }
   },
   "outputs": [
    {
     "name": "stdout",
     "output_type": "stream",
     "text": [
      "They map to 96 distinct entities\n"
     ]
    }
   ],
   "source": [
    "with graphsense.ApiClient(configuration) as api_client:\n",
    "    api_instance = bulk_api.BulkApi(api_client)\n",
    "    # Retrieve all entities in bulk\n",
    "    entities_list = api_instance.bulk_json(CURRENCY, \n",
    "                                           operation='get_address_entity',\n",
    "                                           num_pages=1,\n",
    "                                           body={'address':input_addresses})\n",
    "  \n",
    "for e in entities_list:\n",
    "    entities[int(e['entity'])] = e\n",
    "    \n",
    "print(f\"They map to {len(entities)} distinct entities\")"
   ]
  },
  {
   "cell_type": "markdown",
   "id": "f8731c56",
   "metadata": {},
   "source": [
    "# Q3: How many addresses are controlled by these entities?"
   ]
  },
  {
   "cell_type": "markdown",
   "id": "e56c2ee9",
   "metadata": {},
   "source": [
    "Count the number of retrieved entities, the number of addresses controlled by these entities, and sum up the total number of USD received by these entities"
   ]
  },
  {
   "cell_type": "code",
   "execution_count": 11,
   "id": "interracial-conservative",
   "metadata": {
    "ExecuteTime": {
     "end_time": "2021-03-23T08:43:41.232197Z",
     "start_time": "2021-03-23T08:43:41.223799Z"
    }
   },
   "outputs": [
    {
     "name": "stdout",
     "output_type": "stream",
     "text": [
      "96 entities with 2,005,688 addresses received 13,373,952,294 USD\n"
     ]
    }
   ],
   "source": [
    "n_addresses = 0\n",
    "usd_in = 0\n",
    "for v in entities:\n",
    "    n_addresses += entities[v]['no_addresses']\n",
    "    for fv in entities[v]['total_received']['fiat_values']:\n",
    "        if fv['code'] == 'usd':\n",
    "            usd_in += fv['value']\n",
    "\n",
    "print(\"{} entities with {:,.0f} addresses received {:,.0f} USD\".format(len(entities), n_addresses, usd_in))"
   ]
  },
  {
   "cell_type": "markdown",
   "id": "901089d3",
   "metadata": {},
   "source": [
    "Investigate these entities by plotting a histogram."
   ]
  },
  {
   "cell_type": "code",
   "execution_count": 12,
   "id": "9e0c9f19",
   "metadata": {},
   "outputs": [
    {
     "data": {
      "image/png": "[encoded data removed]",
      "text/plain": [
       "<Figure size 432x288 with 1 Axes>"
      ]
     },
     "metadata": {
      "needs_background": "light"
     },
     "output_type": "display_data"
    }
   ],
   "source": [
    "import matplotlib.pyplot as plt\n",
    "\n",
    "#no_addresses_in_entities = [e for e in entities]\n",
    "#no_addresses_in_entities\n",
    "\n",
    "no_entity_addresses = [entity['no_addresses'] for entity in entities.values()]\n",
    "plt.hist(no_entity_addresses, bins = 40)\n",
    "plt.ylabel('Number of entities')\n",
    "plt.xlabel('Number of addresses')\n",
    "plt.yscale('log')\n",
    "plt.show()"
   ]
  },
  {
   "cell_type": "markdown",
   "id": "629f6aba",
   "metadata": {},
   "source": [
    "We can assume that entities with very large number of addresses are services (e.g., exchanges) or super-clusters. Therefore, for our further analysis, we filter our entities by **ignoring entities with more than 10K address**."
   ]
  },
  {
   "cell_type": "code",
   "execution_count": 13,
   "id": "657c2bfa",
   "metadata": {},
   "outputs": [
    {
     "name": "stdout",
     "output_type": "stream",
     "text": [
      "94 entities with 562 addresses received 203,643 USD\n"
     ]
    }
   ],
   "source": [
    "filtered_entities = [entity for entity in entities.values() if entity['no_addresses'] < 10000]\n",
    "\n",
    "n_addresses = 0\n",
    "usd_in = 0\n",
    "for entity in filtered_entities:\n",
    "    n_addresses += entity['no_addresses']\n",
    "    for fv in entities[v]['total_received']['fiat_values']:\n",
    "        if fv['code'] == 'usd':\n",
    "            usd_in += fv['value']\n",
    "    \n",
    "print(\"{} entities with {:,.0f} addresses received {:,.0f} USD\"\n",
    "      .format(len(filtered_entities), n_addresses, usd_in))"
   ]
  },
  {
   "cell_type": "markdown",
   "id": "maritime-torture",
   "metadata": {},
   "source": [
    "# Q4: Where did the money come from, where did it go to?\n",
    "\n",
    "For all filtered entities we now gather all incoming and outgoing entities."
   ]
  },
  {
   "cell_type": "code",
   "execution_count": null,
   "id": "outstanding-welcome",
   "metadata": {
    "ExecuteTime": {
     "end_time": "2021-03-23T08:43:41.265903Z",
     "start_time": "2021-03-23T08:43:41.263174Z"
    }
   },
   "outputs": [
    {
     "name": "stdout",
     "output_type": "stream",
     "text": [
      "16\r"
     ]
    }
   ],
   "source": [
    "entity_nbrs_in = dict()\n",
    "entity_nbrs_out = dict()\n",
    "\n",
    "with graphsense.ApiClient(configuration) as api_client:\n",
    "    api_instance = entities_api.EntitiesApi(api_client)\n",
    "    for i, e in enumerate(filtered_entities):\n",
    "        print(i+1, end='\\r')\n",
    "        if e['entity'] not in entity_nbrs_in:\n",
    "            entity_nbrs_in[e['entity']] = api_instance.list_entity_neighbors(CURRENCY, int(e['entity']), \n",
    "                                                                          direction='in', include_labels=True)\n",
    "        if e['entity'] not in entity_nbrs_out:\n",
    "            entity_nbrs_out[e['entity']] = api_instance.list_entity_neighbors(CURRENCY, int(e['entity']),\n",
    "                                                                           direction='out', include_labels=True)"
   ]
  },
  {
   "cell_type": "markdown",
   "id": "10c82b6b",
   "metadata": {},
   "source": [
    "To get an overview, we count the number of incoming and outgoing entities"
   ]
  },
  {
   "cell_type": "code",
   "execution_count": null,
   "id": "525ba96f",
   "metadata": {},
   "outputs": [],
   "source": [
    "no_incoming_entities = {key:len(entity_nbrs_in[key]['neighbors']) for key in entity_nbrs_in}\n",
    "\n",
    "no_outgoing_entities = {key:len(entity_nbrs_out[key]['neighbors']) for key in entity_nbrs_out}"
   ]
  },
  {
   "cell_type": "code",
   "execution_count": null,
   "id": "1434652f",
   "metadata": {},
   "outputs": [],
   "source": [
    "plt.hist(no_incoming_entities.values(), bins = 40)\n",
    "plt.ylabel('Number of entities')\n",
    "plt.xlabel('Number of incoming entities')\n",
    "plt.yscale('log')\n",
    "plt.show()"
   ]
  },
  {
   "cell_type": "code",
   "execution_count": null,
   "id": "66afaa49",
   "metadata": {},
   "outputs": [],
   "source": [
    "plt.hist(no_outgoing_entities.values(), bins = 40)\n",
    "plt.ylabel('Number of entities')\n",
    "plt.xlabel('Number of incoming entities')\n",
    "plt.yscale('log')\n",
    "plt.show()"
   ]
  },
  {
   "cell_type": "markdown",
   "id": "8ee1c76b",
   "metadata": {},
   "source": [
    "## Q5: Can we find any known entities (e.g., exchanges) in the digital money trace?"
   ]
  },
  {
   "cell_type": "code",
   "execution_count": null,
   "id": "ef1c79cc",
   "metadata": {},
   "outputs": [],
   "source": [
    "# Collect IDs of those incoming entities that carry labels\n",
    "\n",
    "known_incoming_entities = {}\n",
    "\n",
    "for neighbors in entity_nbrs_in.values():\n",
    "    for neighbor in neighbors['neighbors']:\n",
    "        if len(neighbor['labels']) > 0:\n",
    "            known_incoming_entities[neighbor['entity']['entity']] = neighbor['labels'][0]\n",
    "            \n",
    "pprint(known_incoming_entities)"
   ]
  },
  {
   "cell_type": "code",
   "execution_count": null,
   "id": "7b62ee34",
   "metadata": {},
   "outputs": [],
   "source": [
    "# Collect IDs of those outoging entities that carry labels\n",
    "\n",
    "known_outgoing_entities = {}\n",
    "\n",
    "for neighbors in entity_nbrs_out.values():\n",
    "    for neighbor in neighbors['neighbors']:\n",
    "        if len(neighbor['labels']) > 0:\n",
    "            known_outgoing_entities[neighbor['entity']['entity']] = neighbor['labels'][0]\n",
    "            \n",
    "pprint(known_outgoing_entities)"
   ]
  },
  {
   "cell_type": "markdown",
   "id": "referenced-audit",
   "metadata": {
    "ExecuteTime": {
     "end_time": "2021-03-21T16:28:48.669545Z",
     "start_time": "2021-03-21T16:28:48.667250Z"
    }
   },
   "source": [
    "## Network Visualization\n",
    "\n",
    "Finally, we build and visualize a network showing the entities we just identified and collected."
   ]
  },
  {
   "cell_type": "code",
   "execution_count": null,
   "id": "0ea1edd7",
   "metadata": {},
   "outputs": [],
   "source": [
    "import networkx as nx\n",
    "import matplotlib.pyplot as plt"
   ]
  },
  {
   "cell_type": "markdown",
   "id": "8f29fe4e",
   "metadata": {},
   "source": [
    "### Entities sending money to sextortion addresses"
   ]
  },
  {
   "cell_type": "code",
   "execution_count": null,
   "id": "impossible-carter",
   "metadata": {
    "ExecuteTime": {
     "end_time": "2021-03-23T08:45:44.699178Z",
     "start_time": "2021-03-23T08:45:44.689051Z"
    }
   },
   "outputs": [],
   "source": [
    "g = nx.DiGraph()\n",
    "for (entity, neighbors) in entity_nbrs_in.items():\n",
    "    for neighbor in neighbors.neighbors:\n",
    "        if len(neighbor.labels) > 0:\n",
    "            g.add_edge(neighbor['entity']['entity'], entity)\n",
    "            g.add_node(entity, label='sextortion')\n",
    "            if neighbor['entity']['entity'] in known_incoming_entities:\n",
    "                g.add_node(neighbor['entity']['entity'], label=known_incoming_entities[neighbor['entity']['entity']])\n",
    "            else:\n",
    "                g.add_node(neighbor['entity']['entity'], label='Unknown')                "
   ]
  },
  {
   "cell_type": "code",
   "execution_count": null,
   "id": "92d9810e",
   "metadata": {},
   "outputs": [],
   "source": [
    "print(f\"Number of nodes: {g.number_of_nodes()}\")\n",
    "print(f\"Number of edges: {g.number_of_edges()}\")"
   ]
  },
  {
   "cell_type": "code",
   "execution_count": null,
   "id": "a3d9b17a",
   "metadata": {},
   "outputs": [],
   "source": [
    "node_colours = []\n",
    "\n",
    "for node_id, values in list(g.nodes(data=True)):\n",
    "    if(values['label'] == 'sextortion'):\n",
    "        node_colours.append('red')\n",
    "    else:\n",
    "        node_colours.append('green')"
   ]
  },
  {
   "cell_type": "code",
   "execution_count": null,
   "id": "eight-lingerie",
   "metadata": {
    "ExecuteTime": {
     "end_time": "2021-03-23T08:45:54.643107Z",
     "start_time": "2021-03-23T08:45:54.541921Z"
    }
   },
   "outputs": [],
   "source": [
    "pos = nx.fruchterman_reingold_layout(g)\n",
    "plt.figure(figsize=(12, 8))\n",
    "plt.title.text = \"Known entities sending money to addresses involved in sextortion spam.\"\n",
    "nx.draw(g, \n",
    "        edge_color='lightgrey',\n",
    "        node_color=node_colours,\n",
    "        node_size=12,\n",
    "        pos=pos)\n"
   ]
  },
  {
   "cell_type": "markdown",
   "id": "ced01e3e",
   "metadata": {},
   "source": [
    "### Entities receiving money from sextortion addresses"
   ]
  },
  {
   "cell_type": "code",
   "execution_count": null,
   "id": "c3ae0b7b",
   "metadata": {
    "ExecuteTime": {
     "end_time": "2021-03-23T08:45:44.699178Z",
     "start_time": "2021-03-23T08:45:44.689051Z"
    }
   },
   "outputs": [],
   "source": [
    "g = nx.DiGraph()\n",
    "for (entity, neighbors) in entity_nbrs_out.items():\n",
    "    for neighbor in neighbors.neighbors:\n",
    "        if len(neighbor.labels) > 0:\n",
    "            g.add_edge(neighbor['entity']['entity'], entity)\n",
    "            g.add_node(entity, label='sextortion')\n",
    "            if neighbor['entity']['entity'] in known_outgoing_entities:\n",
    "                g.add_node(neighbor['entity']['entity'], label=known_outgoing_entities[neighbor['entity']['entity']])\n",
    "            else:\n",
    "                g.add_node(neighbor['entity']['entity'], label='Unknown')                "
   ]
  },
  {
   "cell_type": "code",
   "execution_count": null,
   "id": "fc4f6e2e",
   "metadata": {},
   "outputs": [],
   "source": [
    "print(f\"Number of nodes: {g.number_of_nodes()}\")\n",
    "print(f\"Number of edges: {g.number_of_edges()}\")"
   ]
  },
  {
   "cell_type": "code",
   "execution_count": null,
   "id": "18f0f700",
   "metadata": {},
   "outputs": [],
   "source": [
    "node_colours = []\n",
    "label_dict = {}\n",
    "\n",
    "for node_id, values in list(g.nodes(data=True)):\n",
    "    if(values['label'] == 'sextortion'):\n",
    "        node_colours.append('red')\n",
    "    else:\n",
    "        node_colours.append('green')\n",
    "        label_dict[node_id] = node_id"
   ]
  },
  {
   "cell_type": "code",
   "execution_count": null,
   "id": "4ec1ee62",
   "metadata": {
    "ExecuteTime": {
     "end_time": "2021-03-23T08:45:54.643107Z",
     "start_time": "2021-03-23T08:45:54.541921Z"
    }
   },
   "outputs": [],
   "source": [
    "pos = nx.fruchterman_reingold_layout(g)\n",
    "plt.figure(figsize=(12, 8))\n",
    "plt.title.text = \"Known entities sending money to addresses involved in sextortion spam.\"\n",
    "nx.draw(g, \n",
    "        edge_color='lightgrey',\n",
    "        node_color=node_colours,\n",
    "        node_size=12,\n",
    "        labels=label_dict,\n",
    "        with_labels=True,\n",
    "        pos=pos)\n"
   ]
  }
 ],
 "metadata": {
  "hide_input": false,
  "kernelspec": {
   "display_name": "Python 3 (ipykernel)",
   "language": "python",
   "name": "python3"
  },
  "language_info": {
   "codemirror_mode": {
    "name": "ipython",
    "version": 3
   },
   "file_extension": ".py",
   "mimetype": "text/x-python",
   "name": "python",
   "nbconvert_exporter": "python",
   "pygments_lexer": "ipython3",
   "version": "3.10.5"
  }
 },
 "nbformat": 4,
 "nbformat_minor": 5
}
