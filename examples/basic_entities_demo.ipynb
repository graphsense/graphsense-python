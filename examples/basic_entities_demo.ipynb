{
 "cells": [
  {
   "cell_type": "markdown",
   "metadata": {},
   "source": [
    "# Demo: Retrieving basic entities"
   ]
  },
  {
   "cell_type": "markdown",
   "metadata": {
    "ExecuteTime": {
     "end_time": "2020-11-11T07:42:56.012609Z",
     "start_time": "2020-11-11T07:42:56.010068Z"
    }
   },
   "source": [
    "## Import python modules"
   ]
  },
  {
   "cell_type": "code",
   "execution_count": null,
   "metadata": {
    "ExecuteTime": {
     "end_time": "2020-11-11T07:40:44.591540Z",
     "start_time": "2020-11-11T07:40:44.418852Z"
    }
   },
   "outputs": [],
   "source": [
    "import graphsense\n",
    "from graphsense.api import addresses_api, blocks_api, entities_api\n",
    "\n",
    "import matplotlib.pyplot as plt\n",
    "\n",
    "from pprint import pprint"
   ]
  },
  {
   "cell_type": "markdown",
   "metadata": {},
   "source": [
    "## Configure and create API endpoint"
   ]
  },
  {
   "cell_type": "code",
   "execution_count": null,
   "metadata": {
    "ExecuteTime": {
     "end_time": "2020-11-11T07:44:02.988564Z",
     "start_time": "2020-11-11T07:44:02.983192Z"
    }
   },
   "outputs": [],
   "source": [
    "configuration = graphsense.Configuration(\n",
    "    host = \"https://api.ikna.io\",\n",
    "    api_key = {'api_key': 'PASTE API KEY HERE'}\n",
    ")\n",
    "\n",
    "CURRENCY = 'btc'"
   ]
  },
  {
   "cell_type": "markdown",
   "metadata": {
    "ExecuteTime": {
     "end_time": "2020-11-11T07:44:44.859379Z",
     "start_time": "2020-11-11T07:44:44.856847Z"
    }
   },
   "source": [
    "## Case study #1"
   ]
  },
  {
   "cell_type": "markdown",
   "metadata": {},
   "source": [
    "Let's have a look at some properties of block 500000 in the BTC blockchain."
   ]
  },
  {
   "cell_type": "code",
   "execution_count": 3,
   "metadata": {
    "ExecuteTime": {
     "end_time": "2020-11-11T07:51:28.254365Z",
     "start_time": "2020-11-11T07:51:26.430367Z"
    }
   },
   "outputs": [],
   "source": [
    "with graphsense.ApiClient(configuration) as api_client:\n",
    "    api_instance = blocks_api.BlocksApi(api_client)\n",
    "    try:\n",
    "        # Retrieve the list of all transactions in a block\n",
    "        block_txs_obj = api_instance.list_block_txs(CURRENCY, 500000)\n",
    "        pprint(block_txs_obj)\n",
    "    except graphsense.ApiException as e:\n",
    "        print(\"Exception when calling BlocksApi->list_block_txs: %s\\n\" % e)"
   ]
  },
  {
   "cell_type": "markdown",
   "metadata": {},
   "source": [
    "Let's compute the paid fees and the ratio between fees and and total inputs for each transaction."
   ]
  },
  {
   "cell_type": "code",
   "execution_count": null,
   "metadata": {
    "ExecuteTime": {
     "end_time": "2020-11-11T08:13:29.007112Z",
     "start_time": "2020-11-11T08:13:28.988370Z"
    }
   },
   "outputs": [],
   "source": [
    "\n",
    "block_tx_fees = [tx.total_input.value - tx.total_output.value\n",
    "                 for tx in block_txs_obj if len(tx.inputs.value) > 0]\n",
    "block_tx_inputs = [tx.total_input.value for tx in block_txs_obj if len(tx.inputs.value) > 0]\n",
    "block_tx_fee_input_ratios = [f/i for f, i in zip(block_tx_fees, block_tx_inputs)]"
   ]
  },
  {
   "cell_type": "markdown",
   "metadata": {},
   "source": [
    "Let's plot the results to visually identify some patterns."
   ]
  },
  {
   "cell_type": "code",
   "execution_count": null,
   "metadata": {
    "ExecuteTime": {
     "end_time": "2020-11-11T08:45:25.745063Z",
     "start_time": "2020-11-11T08:45:25.447696Z"
    }
   },
   "outputs": [],
   "source": [
    "fs = 14\n",
    "n_subplots = 3\n",
    "fig, axs = plt.subplots(n_subplots, figsize=(15, 7))\n",
    "axs[0].plot(block_tx_fees, 'b', label='Tx Fee Paid')\n",
    "\n",
    "axs[1].plot(block_tx_inputs, 'g', label='Total Tx Input')\n",
    "\n",
    "axs[2].plot(block_tx_fee_input_ratios, 'y', label='Fee/Input Ratio')\n",
    "\n",
    "for i in range(n_subplots):\n",
    "    axs[i].legend(fontsize=fs)\n",
    "    axs[i].tick_params(labelsize=fs)\n",
    "plt.show()"
   ]
  },
  {
   "cell_type": "markdown",
   "metadata": {},
   "source": [
    "There is something weird happening around tx number 250 and around tx number 500 where the ratio is constant and close to 1. Let's check the numbers in the block. "
   ]
  },
  {
   "cell_type": "code",
   "execution_count": null,
   "metadata": {
    "ExecuteTime": {
     "end_time": "2020-11-11T08:53:23.976220Z",
     "start_time": "2020-11-11T08:53:23.955945Z"
    }
   },
   "outputs": [],
   "source": [
    "delta = 3\n",
    "print('index, ratio, input, fee')\n",
    "for i, el in enumerate(block_tx_fee_input_ratios):\n",
    "    if el > 0.9 and ((i > 250 - delta and i < 250 + delta) or (i > 500 - delta and i < 500 + delta)):\n",
    "        print(i, el, block_tx_inputs[i], block_tx_fees[i])"
   ]
  },
  {
   "cell_type": "markdown",
   "metadata": {},
   "source": [
    "Let's check how many transactions follow this pattern."
   ]
  },
  {
   "cell_type": "code",
   "execution_count": null,
   "metadata": {
    "ExecuteTime": {
     "end_time": "2020-11-11T08:56:41.016923Z",
     "start_time": "2020-11-11T08:56:41.006560Z"
    }
   },
   "outputs": [],
   "source": [
    "from statistics import mode"
   ]
  },
  {
   "cell_type": "code",
   "execution_count": null,
   "metadata": {
    "ExecuteTime": {
     "end_time": "2020-11-11T08:57:11.000376Z",
     "start_time": "2020-11-11T08:57:10.982697Z"
    }
   },
   "outputs": [],
   "source": [
    "ratio_mode = mode(block_tx_fee_input_ratios)\n",
    "ratio_mode"
   ]
  },
  {
   "cell_type": "code",
   "execution_count": null,
   "metadata": {
    "ExecuteTime": {
     "end_time": "2020-11-11T08:58:38.560564Z",
     "start_time": "2020-11-11T08:58:38.549295Z"
    }
   },
   "outputs": [],
   "source": [
    "n_txs_with_pattern = len([el for el in block_tx_fee_input_ratios if el == ratio_mode])\n",
    "n_txs_with_pattern"
   ]
  },
  {
   "cell_type": "code",
   "execution_count": null,
   "metadata": {
    "ExecuteTime": {
     "end_time": "2020-11-11T08:59:15.325892Z",
     "start_time": "2020-11-11T08:59:15.313851Z"
    }
   },
   "outputs": [],
   "source": [
    "ratio_txs_with_pattern = 100*n_txs_with_pattern/len(block_txs_obj)\n",
    "ratio_txs_with_pattern"
   ]
  },
  {
   "cell_type": "markdown",
   "metadata": {},
   "source": [
    "We have 177 transactions in block 500000 (~6.55%) that follow a specific input-fee pattern and these have likely been performed by the same actor."
   ]
  },
  {
   "cell_type": "markdown",
   "metadata": {
    "ExecuteTime": {
     "end_time": "2020-11-11T09:00:44.112669Z",
     "start_time": "2020-11-11T09:00:44.106808Z"
    }
   },
   "source": [
    "## Case Study #2"
   ]
  },
  {
   "cell_type": "markdown",
   "metadata": {},
   "source": [
    "Let's play with an address and its entity and see what we can discover about their relations."
   ]
  },
  {
   "cell_type": "code",
   "execution_count": null,
   "metadata": {},
   "outputs": [],
   "source": [
    "address = '18NSAybFEhLa6AG3gxEN1hiaRJoSvvbnDb'\n",
    "\n",
    "with graphsense.ApiClient(configuration) as api_client:\n",
    "    api_instance = addresses_api.AddressesApi(api_client)\n",
    "    try:\n",
    "        # Retrieve the address object\n",
    "        address_obj = api_instance.get_address(CURRENCY, address)\n",
    "        # pprint(address_obj)\n",
    "        entity_obj = api_instance.get_address_entity(CURRENCY, address)\n",
    "        # pprint(entity_obj)\n",
    "    except graphsense.ApiException as e:\n",
    "        print(\"Exception when calling AddressesApi: %s\\n\" % e)"
   ]
  },
  {
   "cell_type": "markdown",
   "metadata": {},
   "source": [
    "Let's check some simple properties of the address and of the entity and then compare their number of incoming and outgoing transactions."
   ]
  },
  {
   "cell_type": "code",
   "execution_count": null,
   "metadata": {
    "ExecuteTime": {
     "end_time": "2020-11-11T09:04:52.999115Z",
     "start_time": "2020-11-11T09:04:52.987752Z"
    }
   },
   "outputs": [],
   "source": [
    "address_obj.total_received"
   ]
  },
  {
   "cell_type": "code",
   "execution_count": null,
   "metadata": {
    "ExecuteTime": {
     "end_time": "2020-11-11T09:05:21.382694Z",
     "start_time": "2020-11-11T09:05:21.371912Z"
    }
   },
   "outputs": [],
   "source": [
    "address_obj.balance"
   ]
  },
  {
   "cell_type": "code",
   "execution_count": null,
   "metadata": {
    "ExecuteTime": {
     "end_time": "2020-11-11T09:05:07.030361Z",
     "start_time": "2020-11-11T09:05:07.017209Z"
    }
   },
   "outputs": [],
   "source": [
    "entity_obj.no_addresses"
   ]
  },
  {
   "cell_type": "code",
   "execution_count": null,
   "metadata": {
    "ExecuteTime": {
     "end_time": "2020-11-11T09:12:21.382914Z",
     "start_time": "2020-11-11T09:12:21.374272Z"
    }
   },
   "outputs": [],
   "source": [
    "from datetime import datetime"
   ]
  },
  {
   "cell_type": "code",
   "execution_count": null,
   "metadata": {
    "ExecuteTime": {
     "end_time": "2020-11-11T09:13:13.329443Z",
     "start_time": "2020-11-11T09:13:13.319333Z"
    }
   },
   "outputs": [],
   "source": [
    "print('First Tx:', datetime.utcfromtimestamp(entity_obj.first_tx.timestamp).strftime('%Y-%m-%d %H:%M:%S'))"
   ]
  },
  {
   "cell_type": "code",
   "execution_count": null,
   "metadata": {
    "ExecuteTime": {
     "end_time": "2020-11-11T09:13:22.392203Z",
     "start_time": "2020-11-11T09:13:22.383139Z"
    }
   },
   "outputs": [],
   "source": [
    "print('Last Tx:', datetime.utcfromtimestamp(entity_obj.last_tx.timestamp).strftime('%Y-%m-%d %H:%M:%S'))"
   ]
  },
  {
   "cell_type": "code",
   "execution_count": null,
   "metadata": {
    "ExecuteTime": {
     "end_time": "2020-11-11T09:02:50.619994Z",
     "start_time": "2020-11-11T09:02:50.604818Z"
    }
   },
   "outputs": [],
   "source": [
    "address_obj.no_incoming_txs, entity_obj.no_incoming_txs"
   ]
  },
  {
   "cell_type": "code",
   "execution_count": null,
   "metadata": {
    "ExecuteTime": {
     "end_time": "2020-11-11T09:03:03.620410Z",
     "start_time": "2020-11-11T09:03:03.604224Z"
    }
   },
   "outputs": [],
   "source": [
    "address_obj.no_outgoing_txs, entity_obj.no_outgoing_txs"
   ]
  },
  {
   "cell_type": "markdown",
   "metadata": {},
   "source": [
    "It looks like this address was used in all the incoming and outgoing transactions of the entity. Let's discover more about this entity."
   ]
  },
  {
   "cell_type": "code",
   "execution_count": null,
   "metadata": {},
   "outputs": [],
   "source": [
    "with graphsense.ApiClient(configuration) as api_client:\n",
    "    api_instance = entities_api.EntitiesApi(api_client)\n",
    "    try:\n",
    "        # Retrieve the entity's tags\n",
    "        entity_tags = api_instance.list_address_tags_by_entity(CURRENCY, entity_obj.entity)\n",
    "        # pprint(entity_tags)\n",
    "    except graphsense.ApiException as e:\n",
    "        print(\"Exception when calling EntitiesApi: %s\\n\" % e)"
   ]
  },
  {
   "cell_type": "code",
   "execution_count": null,
   "metadata": {
    "ExecuteTime": {
     "end_time": "2020-11-11T09:15:25.854489Z",
     "start_time": "2020-11-11T09:15:25.845121Z"
    }
   },
   "outputs": [],
   "source": [
    "entity_tags"
   ]
  },
  {
   "cell_type": "markdown",
   "metadata": {},
   "source": [
    "Unfortunately, we have no tags for this entity. Let's check its incoming neighbors!"
   ]
  },
  {
   "cell_type": "code",
   "execution_count": null,
   "metadata": {},
   "outputs": [],
   "source": [
    "with graphsense.ApiClient(configuration) as api_client:\n",
    "    api_instance = entities_api.EntitiesApi(api_client)\n",
    "    try:\n",
    "        # Retrieve entity neighbors\n",
    "        entity_neighbors_obj = api_instance.list_entity_neighbors('btc', entity_obj.entity,\n",
    "                                                                  direction='in', include_labels=True)\n",
    "    except graphsense.ApiException as e:\n",
    "        print(\"Exception when calling EntitiesApi: %s\\n\" % e)"
   ]
  },
  {
   "cell_type": "markdown",
   "metadata": {},
   "source": [
    "First, it's better to check how many incoming neighbors we are dealing with"
   ]
  },
  {
   "cell_type": "code",
   "execution_count": null,
   "metadata": {
    "ExecuteTime": {
     "end_time": "2020-11-11T09:17:35.208496Z",
     "start_time": "2020-11-11T09:17:35.204575Z"
    }
   },
   "outputs": [],
   "source": [
    "[e.entity for e in entity_neighbors_obj.neighbors]"
   ]
  },
  {
   "cell_type": "markdown",
   "metadata": {},
   "source": [
    "Not too many, we can work with them. Let's see if we are lucky with the labels of the incoming neighbors!"
   ]
  },
  {
   "cell_type": "code",
   "execution_count": null,
   "metadata": {
    "ExecuteTime": {
     "end_time": "2020-11-11T09:19:09.566634Z",
     "start_time": "2020-11-11T09:19:09.553839Z"
    }
   },
   "outputs": [],
   "source": [
    "known_neighbors = [el for el in entity_neighbors_obj.neighbors if len(el.labels) > 0]\n",
    "for neighbor in known_neighbors:\n",
    "    print(f\"{neighbor.labels[0]} (Entity ID: {neighbor.entity.entity})\")"
   ]
  },
  {
   "cell_type": "markdown",
   "metadata": {},
   "source": [
    "Bingo! We found a known entity, which sent money to our entity: **Poloniex.com**, which is a cryptoasset exchange."
   ]
  }
 ],
 "metadata": {
  "kernelspec": {
   "display_name": "Python 3 (ipykernel)",
   "language": "python",
   "name": "python3"
  },
  "language_info": {
   "codemirror_mode": {
    "name": "ipython",
    "version": 3
   },
   "file_extension": ".py",
   "mimetype": "text/x-python",
   "name": "python",
   "nbconvert_exporter": "python",
   "pygments_lexer": "ipython3",
   "version": "3.7.10"
  }
 },
 "nbformat": 4,
 "nbformat_minor": 2
}
