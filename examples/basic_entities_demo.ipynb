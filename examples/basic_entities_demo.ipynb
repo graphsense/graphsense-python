{
 "cells": [
  {
   "cell_type": "markdown",
   "metadata": {},
   "source": [
    "# Demo: Retrieving basic entities"
   ]
  },
  {
   "cell_type": "markdown",
   "metadata": {
    "ExecuteTime": {
     "end_time": "2020-11-11T07:42:56.012609Z",
     "start_time": "2020-11-11T07:42:56.010068Z"
    }
   },
   "source": [
    "## Import python modules"
   ]
  },
  {
   "cell_type": "code",
   "execution_count": 1,
   "metadata": {
    "ExecuteTime": {
     "end_time": "2020-11-11T07:40:44.591540Z",
     "start_time": "2020-11-11T07:40:44.418852Z"
    }
   },
   "outputs": [],
   "source": [
    "import graphsense\n",
    "import json\n",
    "\n",
    "from graphsense.api import addresses_api, blocks_api, entities_api, general_api\n",
    "\n",
    "import matplotlib.pyplot as plt\n",
    "\n",
    "from pprint import pprint"
   ]
  },
  {
   "cell_type": "markdown",
   "metadata": {},
   "source": [
    "## Load host and API key from config"
   ]
  },
  {
   "cell_type": "code",
   "execution_count": 2,
   "metadata": {
    "ExecuteTime": {
     "end_time": "2020-11-11T07:44:02.988564Z",
     "start_time": "2020-11-11T07:44:02.983192Z"
    }
   },
   "outputs": [],
   "source": [
    "f = open('config.json')\n",
    "config = json.load(f)\n",
    "f.close()\n",
    "\n",
    "CURRENCY = 'btc'"
   ]
  },
  {
   "cell_type": "markdown",
   "metadata": {},
   "source": [
    "## Configure GraphSense client"
   ]
  },
  {
   "cell_type": "markdown",
   "metadata": {},
   "source": [
    "Now we configure the GraphSense Python library\n",
    "\n"
   ]
  },
  {
   "cell_type": "code",
   "execution_count": 3,
   "metadata": {},
   "outputs": [],
   "source": [
    "configuration = graphsense.Configuration(\n",
    "    host = config['graphsense']['host'],\n",
    "    api_key = {'api_key': config['graphsense']['api_key']})"
   ]
  },
  {
   "cell_type": "markdown",
   "metadata": {},
   "source": [
    "We can test if our libary is working by retrieving summary statistics on supported ledgers.\n",
    "\n"
   ]
  },
  {
   "cell_type": "code",
   "execution_count": 4,
   "metadata": {},
   "outputs": [
    {
     "name": "stdout",
     "output_type": "stream",
     "text": [
      "{'currencies': [{'name': 'btc',\n",
      "                 'no_address_relations': 6476500464,\n",
      "                 'no_addresses': 1016816538,\n",
      "                 'no_blocks': 751129,\n",
      "                 'no_entities': 459520276,\n",
      "                 'no_labels': 3278,\n",
      "                 'no_tagged_addresses': 243119634,\n",
      "                 'no_txs': 759525096,\n",
      "                 'timestamp': 1661471510},\n",
      "                {'name': 'bch',\n",
      "                 'no_address_relations': 2278383895,\n",
      "                 'no_addresses': 332636583,\n",
      "                 'no_blocks': 754901,\n",
      "                 'no_entities': 150501371,\n",
      "                 'no_labels': 85,\n",
      "                 'no_tagged_addresses': 13486379,\n",
      "                 'no_txs': 362212822,\n",
      "                 'timestamp': 1661471489},\n",
      "                {'name': 'ltc',\n",
      "                 'no_address_relations': 1327309722,\n",
      "                 'no_addresses': 151380212,\n",
      "                 'no_blocks': 2322193,\n",
      "                 'no_entities': 65721316,\n",
      "                 'no_labels': 65,\n",
      "                 'no_tagged_addresses': 17150930,\n",
      "                 'no_txs': 125645735,\n",
      "                 'timestamp': 1661470879},\n",
      "                {'name': 'zec',\n",
      "                 'no_address_relations': 105737567,\n",
      "                 'no_addresses': 7205992,\n",
      "                 'no_blocks': 1785964,\n",
      "                 'no_entities': 3571352,\n",
      "                 'no_labels': 9,\n",
      "                 'no_tagged_addresses': 660013,\n",
      "                 'no_txs': 11470729,\n",
      "                 'timestamp': 1661471978},\n",
      "                {'name': 'eth',\n",
      "                 'no_address_relations': 532472818,\n",
      "                 'no_addresses': 226466634,\n",
      "                 'no_blocks': 15412118,\n",
      "                 'no_entities': 0,\n",
      "                 'no_labels': 36855,\n",
      "                 'no_tagged_addresses': 42759,\n",
      "                 'no_txs': 1689215232,\n",
      "                 'timestamp': 1661471992}],\n",
      " 'request_timestamp': '2022-08-31 13:24:56',\n",
      " 'version': '1.0.0'}\n"
     ]
    }
   ],
   "source": [
    "with graphsense.ApiClient(configuration) as api_client:\n",
    "    api_instance = general_api.GeneralApi(api_client)\n",
    "    api_response = api_instance.get_statistics()\n",
    "    pprint(api_response)"
   ]
  },
  {
   "cell_type": "markdown",
   "metadata": {
    "ExecuteTime": {
     "end_time": "2020-11-11T07:44:44.859379Z",
     "start_time": "2020-11-11T07:44:44.856847Z"
    }
   },
   "source": [
    "## Case study #1"
   ]
  },
  {
   "cell_type": "markdown",
   "metadata": {},
   "source": [
    "Let's have a look at some properties of block 500000 in the BTC blockchain."
   ]
  },
  {
   "cell_type": "code",
   "execution_count": 5,
   "metadata": {
    "ExecuteTime": {
     "end_time": "2020-11-11T07:51:28.254365Z",
     "start_time": "2020-11-11T07:51:26.430367Z"
    }
   },
   "outputs": [],
   "source": [
    "with graphsense.ApiClient(configuration) as api_client:\n",
    "    api_instance = blocks_api.BlocksApi(api_client)\n",
    "    try:\n",
    "        # Retrieve the list of all transactions in a block\n",
    "        block_txs_obj = api_instance.list_block_txs(CURRENCY, 500000)\n",
    "    except graphsense.ApiException as e:\n",
    "        print(\"Exception when calling BlocksApi->list_block_txs: %s\\n\" % e)"
   ]
  },
  {
   "cell_type": "markdown",
   "metadata": {},
   "source": [
    "Let's compute the paid fees and the ratio between fees and and total inputs for each transaction."
   ]
  },
  {
   "cell_type": "code",
   "execution_count": 6,
   "metadata": {
    "ExecuteTime": {
     "end_time": "2020-11-11T08:13:29.007112Z",
     "start_time": "2020-11-11T08:13:28.988370Z"
    }
   },
   "outputs": [],
   "source": [
    "\n",
    "block_tx_fees = [tx.total_input.value - tx.total_output.value\n",
    "                 for tx in block_txs_obj if len(tx.inputs.value) > 0]\n",
    "block_tx_inputs = [tx.total_input.value for tx in block_txs_obj if len(tx.inputs.value) > 0]\n",
    "block_tx_fee_input_ratios = [f/i for f, i in zip(block_tx_fees, block_tx_inputs)]"
   ]
  },
  {
   "cell_type": "markdown",
   "metadata": {},
   "source": [
    "Let's plot the results to visually identify some patterns."
   ]
  },
  {
   "cell_type": "code",
   "execution_count": 7,
   "metadata": {
    "ExecuteTime": {
     "end_time": "2020-11-11T08:45:25.745063Z",
     "start_time": "2020-11-11T08:45:25.447696Z"
    }
   },
   "outputs": [
    {
     "data": {
      "image/png": "[encoded data removed]",
      "text/plain": [
       "<Figure size 1500x700 with 3 Axes>"
      ]
     },
     "metadata": {},
     "output_type": "display_data"
    }
   ],
   "source": [
    "fs = 14\n",
    "n_subplots = 3\n",
    "fig, axs = plt.subplots(n_subplots, figsize=(15, 7))\n",
    "axs[0].plot(block_tx_fees, 'b', label='Tx Fee Paid')\n",
    "\n",
    "axs[1].plot(block_tx_inputs, 'g', label='Total Tx Input')\n",
    "\n",
    "axs[2].plot(block_tx_fee_input_ratios, 'y', label='Fee/Input Ratio')\n",
    "\n",
    "for i in range(n_subplots):\n",
    "    axs[i].legend(fontsize=fs)\n",
    "    axs[i].tick_params(labelsize=fs)\n",
    "plt.show()"
   ]
  },
  {
   "cell_type": "markdown",
   "metadata": {},
   "source": [
    "There is something weird happening around tx number 250 and around tx number 500 where the ratio is constant and close to 1. Let's check the numbers in the block. "
   ]
  },
  {
   "cell_type": "code",
   "execution_count": 8,
   "metadata": {
    "ExecuteTime": {
     "end_time": "2020-11-11T08:53:23.976220Z",
     "start_time": "2020-11-11T08:53:23.955945Z"
    }
   },
   "outputs": [
    {
     "name": "stdout",
     "output_type": "stream",
     "text": [
      "index, ratio, input, fee\n",
      "248 0.9734254842791784 102730 100000\n",
      "249 0.9734254842791784 102730 100000\n",
      "250 0.9734254842791784 102730 100000\n",
      "251 0.9734254842791784 102730 100000\n",
      "252 0.9734254842791784 102730 100000\n",
      "498 0.9734254842791784 102730 100000\n",
      "499 0.9734254842791784 102730 100000\n",
      "500 0.9734254842791784 102730 100000\n",
      "501 0.9734254842791784 102730 100000\n",
      "502 0.9734254842791784 102730 100000\n"
     ]
    }
   ],
   "source": [
    "delta = 3\n",
    "print('index, ratio, input, fee')\n",
    "for i, el in enumerate(block_tx_fee_input_ratios):\n",
    "    if el > 0.9 and ((i > 250 - delta and i < 250 + delta) or (i > 500 - delta and i < 500 + delta)):\n",
    "        print(i, el, block_tx_inputs[i], block_tx_fees[i])"
   ]
  },
  {
   "cell_type": "markdown",
   "metadata": {},
   "source": [
    "Let's check how many transactions follow this pattern."
   ]
  },
  {
   "cell_type": "code",
   "execution_count": 9,
   "metadata": {
    "ExecuteTime": {
     "end_time": "2020-11-11T08:56:41.016923Z",
     "start_time": "2020-11-11T08:56:41.006560Z"
    }
   },
   "outputs": [],
   "source": [
    "from statistics import mode"
   ]
  },
  {
   "cell_type": "code",
   "execution_count": 10,
   "metadata": {
    "ExecuteTime": {
     "end_time": "2020-11-11T08:57:11.000376Z",
     "start_time": "2020-11-11T08:57:10.982697Z"
    }
   },
   "outputs": [
    {
     "data": {
      "text/plain": [
       "0.9734254842791784"
      ]
     },
     "execution_count": 10,
     "metadata": {},
     "output_type": "execute_result"
    }
   ],
   "source": [
    "ratio_mode = mode(block_tx_fee_input_ratios)\n",
    "ratio_mode"
   ]
  },
  {
   "cell_type": "code",
   "execution_count": 11,
   "metadata": {
    "ExecuteTime": {
     "end_time": "2020-11-11T08:58:38.560564Z",
     "start_time": "2020-11-11T08:58:38.549295Z"
    }
   },
   "outputs": [
    {
     "data": {
      "text/plain": [
       "177"
      ]
     },
     "execution_count": 11,
     "metadata": {},
     "output_type": "execute_result"
    }
   ],
   "source": [
    "n_txs_with_pattern = len([el for el in block_tx_fee_input_ratios if el == ratio_mode])\n",
    "n_txs_with_pattern"
   ]
  },
  {
   "cell_type": "code",
   "execution_count": 12,
   "metadata": {
    "ExecuteTime": {
     "end_time": "2020-11-11T08:59:15.325892Z",
     "start_time": "2020-11-11T08:59:15.313851Z"
    }
   },
   "outputs": [
    {
     "data": {
      "text/plain": [
       "6.55312847093669"
      ]
     },
     "execution_count": 12,
     "metadata": {},
     "output_type": "execute_result"
    }
   ],
   "source": [
    "ratio_txs_with_pattern = 100*n_txs_with_pattern/len(block_txs_obj)\n",
    "ratio_txs_with_pattern"
   ]
  },
  {
   "cell_type": "markdown",
   "metadata": {},
   "source": [
    "We have 177 transactions in block 500000 (~6.55%) that follow a specific input-fee pattern and these have likely been performed by the same actor."
   ]
  },
  {
   "cell_type": "markdown",
   "metadata": {
    "ExecuteTime": {
     "end_time": "2020-11-11T09:00:44.112669Z",
     "start_time": "2020-11-11T09:00:44.106808Z"
    }
   },
   "source": [
    "## Case Study #2"
   ]
  },
  {
   "cell_type": "markdown",
   "metadata": {},
   "source": [
    "Let's play with an address and its entity and see what we can discover about their relations."
   ]
  },
  {
   "cell_type": "code",
   "execution_count": 13,
   "metadata": {},
   "outputs": [],
   "source": [
    "address = '18NSAybFEhLa6AG3gxEN1hiaRJoSvvbnDb'\n",
    "\n",
    "with graphsense.ApiClient(configuration) as api_client:\n",
    "    api_instance = addresses_api.AddressesApi(api_client)\n",
    "    try:\n",
    "        # Retrieve the address object\n",
    "        address_obj = api_instance.get_address(CURRENCY, address)\n",
    "        # pprint(address_obj)\n",
    "        entity_obj = api_instance.get_address_entity(CURRENCY, address)\n",
    "        # pprint(entity_obj)\n",
    "    except graphsense.ApiException as e:\n",
    "        print(\"Exception when calling AddressesApi: %s\\n\" % e)"
   ]
  },
  {
   "cell_type": "markdown",
   "metadata": {},
   "source": [
    "Let's check some simple properties of the address and of the entity and then compare their number of incoming and outgoing transactions."
   ]
  },
  {
   "cell_type": "code",
   "execution_count": 14,
   "metadata": {
    "ExecuteTime": {
     "end_time": "2020-11-11T09:04:52.999115Z",
     "start_time": "2020-11-11T09:04:52.987752Z"
    }
   },
   "outputs": [
    {
     "data": {
      "text/plain": [
       "{'fiat_values': [{'code': 'eur', 'value': 58193.23},\n",
       "                 {'code': 'usd', 'value': 68158.8}],\n",
       " 'value': 1439242418}"
      ]
     },
     "execution_count": 14,
     "metadata": {},
     "output_type": "execute_result"
    }
   ],
   "source": [
    "address_obj.total_received"
   ]
  },
  {
   "cell_type": "code",
   "execution_count": 15,
   "metadata": {
    "ExecuteTime": {
     "end_time": "2020-11-11T09:05:21.382694Z",
     "start_time": "2020-11-11T09:05:21.371912Z"
    }
   },
   "outputs": [
    {
     "data": {
      "text/plain": [
       "{'fiat_values': [{'code': 'eur', 'value': 0.0}, {'code': 'usd', 'value': 0.0}],\n",
       " 'value': 0}"
      ]
     },
     "execution_count": 15,
     "metadata": {},
     "output_type": "execute_result"
    }
   ],
   "source": [
    "address_obj.balance"
   ]
  },
  {
   "cell_type": "code",
   "execution_count": 16,
   "metadata": {
    "ExecuteTime": {
     "end_time": "2020-11-11T09:05:07.030361Z",
     "start_time": "2020-11-11T09:05:07.017209Z"
    }
   },
   "outputs": [
    {
     "data": {
      "text/plain": [
       "12"
      ]
     },
     "execution_count": 16,
     "metadata": {},
     "output_type": "execute_result"
    }
   ],
   "source": [
    "entity_obj.no_addresses"
   ]
  },
  {
   "cell_type": "code",
   "execution_count": 17,
   "metadata": {
    "ExecuteTime": {
     "end_time": "2020-11-11T09:12:21.382914Z",
     "start_time": "2020-11-11T09:12:21.374272Z"
    }
   },
   "outputs": [],
   "source": [
    "from datetime import datetime"
   ]
  },
  {
   "cell_type": "code",
   "execution_count": 18,
   "metadata": {
    "ExecuteTime": {
     "end_time": "2020-11-11T09:13:13.329443Z",
     "start_time": "2020-11-11T09:13:13.319333Z"
    }
   },
   "outputs": [
    {
     "name": "stdout",
     "output_type": "stream",
     "text": [
      "First Tx: 2016-12-15 02:37:11\n"
     ]
    }
   ],
   "source": [
    "print('First Tx:', datetime.utcfromtimestamp(entity_obj.first_tx.timestamp).strftime('%Y-%m-%d %H:%M:%S'))"
   ]
  },
  {
   "cell_type": "code",
   "execution_count": 19,
   "metadata": {
    "ExecuteTime": {
     "end_time": "2020-11-11T09:13:22.392203Z",
     "start_time": "2020-11-11T09:13:22.383139Z"
    }
   },
   "outputs": [
    {
     "name": "stdout",
     "output_type": "stream",
     "text": [
      "Last Tx: 2020-01-20 13:43:06\n"
     ]
    }
   ],
   "source": [
    "print('Last Tx:', datetime.utcfromtimestamp(entity_obj.last_tx.timestamp).strftime('%Y-%m-%d %H:%M:%S'))"
   ]
  },
  {
   "cell_type": "code",
   "execution_count": 20,
   "metadata": {
    "ExecuteTime": {
     "end_time": "2020-11-11T09:02:50.619994Z",
     "start_time": "2020-11-11T09:02:50.604818Z"
    }
   },
   "outputs": [
    {
     "data": {
      "text/plain": [
       "(34, 34)"
      ]
     },
     "execution_count": 20,
     "metadata": {},
     "output_type": "execute_result"
    }
   ],
   "source": [
    "address_obj.no_incoming_txs, entity_obj.no_incoming_txs"
   ]
  },
  {
   "cell_type": "code",
   "execution_count": 21,
   "metadata": {
    "ExecuteTime": {
     "end_time": "2020-11-11T09:03:03.620410Z",
     "start_time": "2020-11-11T09:03:03.604224Z"
    }
   },
   "outputs": [
    {
     "data": {
      "text/plain": [
       "(16, 16)"
      ]
     },
     "execution_count": 21,
     "metadata": {},
     "output_type": "execute_result"
    }
   ],
   "source": [
    "address_obj.no_outgoing_txs, entity_obj.no_outgoing_txs"
   ]
  },
  {
   "cell_type": "markdown",
   "metadata": {},
   "source": [
    "It looks like this address was used in all the incoming and outgoing transactions of the entity. Let's discover more about this entity."
   ]
  },
  {
   "cell_type": "code",
   "execution_count": 22,
   "metadata": {},
   "outputs": [],
   "source": [
    "with graphsense.ApiClient(configuration) as api_client:\n",
    "    api_instance = entities_api.EntitiesApi(api_client)\n",
    "    try:\n",
    "        # Retrieve the entity's tags\n",
    "        entity_tags = api_instance.list_address_tags_by_entity(CURRENCY, entity_obj.entity)\n",
    "        # pprint(entity_tags)\n",
    "    except graphsense.ApiException as e:\n",
    "        print(\"Exception when calling EntitiesApi: %s\\n\" % e)"
   ]
  },
  {
   "cell_type": "code",
   "execution_count": 23,
   "metadata": {
    "ExecuteTime": {
     "end_time": "2020-11-11T09:15:25.854489Z",
     "start_time": "2020-11-11T09:15:25.845121Z"
    }
   },
   "outputs": [
    {
     "data": {
      "text/plain": [
       "{'address_tags': []}"
      ]
     },
     "execution_count": 23,
     "metadata": {},
     "output_type": "execute_result"
    }
   ],
   "source": [
    "entity_tags"
   ]
  },
  {
   "cell_type": "markdown",
   "metadata": {},
   "source": [
    "Unfortunately, we have no tags for this entity. Let's check its incoming neighbors!"
   ]
  },
  {
   "cell_type": "code",
   "execution_count": 24,
   "metadata": {},
   "outputs": [],
   "source": [
    "with graphsense.ApiClient(configuration) as api_client:\n",
    "    api_instance = entities_api.EntitiesApi(api_client)\n",
    "    try:\n",
    "        # Retrieve entity neighbors\n",
    "        entity_neighbors_obj = api_instance.list_entity_neighbors('btc', entity_obj.entity,\n",
    "                                                                  direction='in', include_labels=True)\n",
    "    except graphsense.ApiException as e:\n",
    "        print(\"Exception when calling EntitiesApi: %s\\n\" % e)"
   ]
  },
  {
   "cell_type": "markdown",
   "metadata": {},
   "source": [
    "First, it's better to check how many incoming neighbors we are dealing with"
   ]
  },
  {
   "cell_type": "code",
   "execution_count": 25,
   "metadata": {
    "ExecuteTime": {
     "end_time": "2020-11-11T09:17:35.208496Z",
     "start_time": "2020-11-11T09:17:35.204575Z"
    }
   },
   "outputs": [
    {
     "data": {
      "text/plain": [
       "[{'balance': {'fiat_values': [{'code': 'eur', 'value': 18612369.11},\n",
       "                              {'code': 'usd', 'value': 18556531.72}],\n",
       "              'value': 85906272534},\n",
       "  'best_address_tag': {'address': '17A16QmavnUfCW11DAApiJxp7ARnxN5pGX',\n",
       "                       'category': 'exchange',\n",
       "                       'confidence': 'manual_transaction',\n",
       "                       'confidence_level': 90,\n",
       "                       'currency': 'BTC',\n",
       "                       'entity': 25701482.0,\n",
       "                       'is_cluster_definer': True,\n",
       "                       'label': 'poloniex.com',\n",
       "                       'lastmod': 1650240000,\n",
       "                       'source': 'Manual transaction',\n",
       "                       'tagpack_creator': 'Trusted data provider',\n",
       "                       'tagpack_is_public': False,\n",
       "                       'tagpack_title': 'Manual BTC Tags'},\n",
       "  'currency': 'btc',\n",
       "  'entity': 25701482,\n",
       "  'first_tx': {'height': 280382,\n",
       "               'timestamp': 1389665951,\n",
       "               'tx_hash': '96e1b80f9cec78ba4f5a108914f210fb26bb695cc89d019e3a89387b5b2059f5'},\n",
       "  'in_degree': 2953440,\n",
       "  'last_tx': {'height': 751126,\n",
       "              'timestamp': 1661471220,\n",
       "              'tx_hash': '211a4cd483b9047ad9ed9ffeb88a69cd5648ee4afec8f980c1f79099667c9715'},\n",
       "  'no_address_tags': 1849,\n",
       "  'no_addresses': 1025854,\n",
       "  'no_incoming_txs': 5044019,\n",
       "  'no_outgoing_txs': 1163157,\n",
       "  'out_degree': 1513069,\n",
       "  'root_address': '19YqztHmspv2egyD6jQM3yn81x5t5krVdJ',\n",
       "  'total_received': {'fiat_values': [{'code': 'eur', 'value': 24262004736.0},\n",
       "                                     {'code': 'usd', 'value': 28245762048.0}],\n",
       "                     'value': 719496234977747},\n",
       "  'total_spent': {'fiat_values': [{'code': 'eur', 'value': 24145809408.0},\n",
       "                                  {'code': 'usd', 'value': 28114581504.0}],\n",
       "                  'value': 719410328705213}},\n",
       " {'balance': {'fiat_values': [{'code': 'eur', 'value': 72.96},\n",
       "                              {'code': 'usd', 'value': 72.74}],\n",
       "              'value': 336757},\n",
       "  'currency': 'btc',\n",
       "  'entity': 163428700,\n",
       "  'first_tx': {'height': 422468,\n",
       "               'timestamp': 1469624184,\n",
       "               'tx_hash': '8a2105ad7455dd48c3069a577624ba1066656fbaeb9d9520362613cd4c1f697c'},\n",
       "  'in_degree': 536,\n",
       "  'last_tx': {'height': 528709,\n",
       "              'timestamp': 1529681754,\n",
       "              'tx_hash': 'c84a3901e482ff917fd9e038bc5fd720ba61e44a7b0df9c60ad26883465fb63b'},\n",
       "  'no_address_tags': 0,\n",
       "  'no_addresses': 7,\n",
       "  'no_incoming_txs': 8807,\n",
       "  'no_outgoing_txs': 70693,\n",
       "  'out_degree': 50933,\n",
       "  'root_address': '1Ej4Jm8J83tKG4wUAbikNF3rQoGckH4Emp',\n",
       "  'total_received': {'fiat_values': [{'code': 'eur', 'value': 356264160.0},\n",
       "                                     {'code': 'usd', 'value': 417937888.0}],\n",
       "                     'value': 12336119259391},\n",
       "  'total_spent': {'fiat_values': [{'code': 'eur', 'value': 356757920.0},\n",
       "                                  {'code': 'usd', 'value': 418560736.0}],\n",
       "                  'value': 12336118922634}},\n",
       " {'balance': {'fiat_values': [{'code': 'eur', 'value': 0.0},\n",
       "                              {'code': 'usd', 'value': 0.0}],\n",
       "              'value': 0},\n",
       "  'currency': 'btc',\n",
       "  'entity': 167096340,\n",
       "  'first_tx': {'height': 424752,\n",
       "               'timestamp': 1470953890,\n",
       "               'tx_hash': '2d07c8d283d4e72583684600d65b38e6f819ecc632ee685416e78d76ea68be2c'},\n",
       "  'in_degree': 7,\n",
       "  'last_tx': {'height': 443539,\n",
       "              'timestamp': 1481783286,\n",
       "              'tx_hash': 'b26ef572708a7da7c318fef430e3af7230e9824c99b32ce8ab3535f7e904200f'},\n",
       "  'no_address_tags': 0,\n",
       "  'no_addresses': 5,\n",
       "  'no_incoming_txs': 7,\n",
       "  'no_outgoing_txs': 4,\n",
       "  'out_degree': 3,\n",
       "  'root_address': '1AQs8xe5KqLLyEW16WUMKMc67NkBEamb4y',\n",
       "  'total_received': {'fiat_values': [{'code': 'eur', 'value': 4857.55},\n",
       "                                     {'code': 'usd', 'value': 5341.0}],\n",
       "                     'value': 846080671},\n",
       "  'total_spent': {'fiat_values': [{'code': 'eur', 'value': 5785.11},\n",
       "                                  {'code': 'usd', 'value': 6134.59}],\n",
       "                  'value': 846080671}},\n",
       " {'balance': {'fiat_values': [{'code': 'eur', 'value': 0.0},\n",
       "                              {'code': 'usd', 'value': 0.0}],\n",
       "              'value': 0},\n",
       "  'currency': 'btc',\n",
       "  'entity': 228927578,\n",
       "  'first_tx': {'height': 454911,\n",
       "               'timestamp': 1488159951,\n",
       "               'tx_hash': '6a1f581bba033157ec2ccef2699e11251dd14ddcbfdd007645d5ce9271a47bee'},\n",
       "  'in_degree': 58,\n",
       "  'last_tx': {'height': 477699,\n",
       "              'timestamp': 1501100121,\n",
       "              'tx_hash': '79f4990d00b2d4829fe0e0052bd908ef96ca202dea2d863750645decc54d2421'},\n",
       "  'no_address_tags': 0,\n",
       "  'no_addresses': 1,\n",
       "  'no_incoming_txs': 88,\n",
       "  'no_outgoing_txs': 88,\n",
       "  'out_degree': 147,\n",
       "  'root_address': '1frraFkWn51kof51iUvrU12oR3eFQxUBa',\n",
       "  'total_received': {'fiat_values': [{'code': 'eur', 'value': 142903.28},\n",
       "                                     {'code': 'usd', 'value': 157322.98}],\n",
       "                     'value': 9797390000},\n",
       "  'total_spent': {'fiat_values': [{'code': 'eur', 'value': 142955.67},\n",
       "                                  {'code': 'usd', 'value': 157380.47}],\n",
       "                  'value': 9797390000}},\n",
       " {'balance': {'fiat_values': [{'code': 'eur', 'value': 0.0},\n",
       "                              {'code': 'usd', 'value': 0.0}],\n",
       "              'value': 0},\n",
       "  'currency': 'btc',\n",
       "  'entity': 238609525,\n",
       "  'first_tx': {'height': 458902,\n",
       "               'timestamp': 1490462899,\n",
       "               'tx_hash': '4779db294b76a7c3fff1cb4dafc5e299b45d57c06fdb67509f5c95e10b5ac1ee'},\n",
       "  'in_degree': 1,\n",
       "  'last_tx': {'height': 458925,\n",
       "              'timestamp': 1490473939,\n",
       "              'tx_hash': '7bd70d9aec6b08af1e243d26641fef20ec274041ec11ac474b004d60cef579e3'},\n",
       "  'no_address_tags': 0,\n",
       "  'no_addresses': 1,\n",
       "  'no_incoming_txs': 1,\n",
       "  'no_outgoing_txs': 1,\n",
       "  'out_degree': 1,\n",
       "  'root_address': '13sAXQj6JgH5nxz2HcsoguKSNFpiNPQbkU',\n",
       "  'total_received': {'fiat_values': [{'code': 'eur', 'value': 0.47},\n",
       "                                     {'code': 'usd', 'value': 0.51}],\n",
       "                     'value': 52690},\n",
       "  'total_spent': {'fiat_values': [{'code': 'eur', 'value': 0.47},\n",
       "                                  {'code': 'usd', 'value': 0.51}],\n",
       "                  'value': 52690}},\n",
       " {'balance': {'fiat_values': [{'code': 'eur', 'value': 0.0},\n",
       "                              {'code': 'usd', 'value': 0.0}],\n",
       "              'value': 0},\n",
       "  'currency': 'btc',\n",
       "  'entity': 239190095,\n",
       "  'first_tx': {'height': 459192,\n",
       "               'timestamp': 1490625468,\n",
       "               'tx_hash': 'f7645203d006e6c384fa55182ee911a039d112058c5015df407bcc940f6c4a12'},\n",
       "  'in_degree': 1,\n",
       "  'last_tx': {'height': 459193,\n",
       "              'timestamp': 1490626062,\n",
       "              'tx_hash': '7057e279da54b7209c06a24e5ccd9747d98846faf6466e3ffa5d441a0234c551'},\n",
       "  'no_address_tags': 0,\n",
       "  'no_addresses': 1,\n",
       "  'no_incoming_txs': 1,\n",
       "  'no_outgoing_txs': 1,\n",
       "  'out_degree': 2,\n",
       "  'root_address': '1E9UBfDXaqjZyoT8i5TJsgvFPx7h7Vk2YD',\n",
       "  'total_received': {'fiat_values': [{'code': 'eur', 'value': 20.31},\n",
       "                                     {'code': 'usd', 'value': 22.06}],\n",
       "                     'value': 2120100},\n",
       "  'total_spent': {'fiat_values': [{'code': 'eur', 'value': 20.31},\n",
       "                                  {'code': 'usd', 'value': 22.06}],\n",
       "                  'value': 2120100}},\n",
       " {'balance': {'fiat_values': [{'code': 'eur', 'value': 3212.83},\n",
       "                              {'code': 'usd', 'value': 3203.19}],\n",
       "              'value': 14828982},\n",
       "  'currency': 'btc',\n",
       "  'entity': 269959840,\n",
       "  'first_tx': {'height': 471087,\n",
       "               'timestamp': 1497358906,\n",
       "               'tx_hash': 'c8360ffbb2caa5a5fe6c505c071e1e347975a9d2d1bf931f0265fd5993149d66'},\n",
       "  'in_degree': 66211,\n",
       "  'last_tx': {'height': 748698,\n",
       "              'timestamp': 1660049453,\n",
       "              'tx_hash': 'fe35ce157a4a01232c4aa5d8e4cc7f7ae7bbd39945917edb63611206856ddeaf'},\n",
       "  'no_address_tags': 14,\n",
       "  'no_addresses': 67067,\n",
       "  'no_incoming_txs': 106518,\n",
       "  'no_outgoing_txs': 42151,\n",
       "  'out_degree': 28509,\n",
       "  'root_address': '14NSLcvMz3Doj4UirANgijJSoDFbMzQm8a',\n",
       "  'total_received': {'fiat_values': [{'code': 'eur', 'value': 197205104.0},\n",
       "                                     {'code': 'usd', 'value': 229745136.0}],\n",
       "                     'value': 3546490396019},\n",
       "  'total_spent': {'fiat_values': [{'code': 'eur', 'value': 197364320.0},\n",
       "                                  {'code': 'usd', 'value': 229986080.0}],\n",
       "                  'value': 3546475567037}},\n",
       " {'balance': {'fiat_values': [{'code': 'eur', 'value': 0.0},\n",
       "                              {'code': 'usd', 'value': 0.0}],\n",
       "              'value': 0},\n",
       "  'currency': 'btc',\n",
       "  'entity': 305044539,\n",
       "  'first_tx': {'height': 486237,\n",
       "               'timestamp': 1505959573,\n",
       "               'tx_hash': '5b3774f4b358831c7916583c1fa5c3c466c01000ae5b07648a24b8a64c7a50e6'},\n",
       "  'in_degree': 1,\n",
       "  'last_tx': {'height': 486238,\n",
       "              'timestamp': 1505960316,\n",
       "              'tx_hash': '49cc76514ff2e5850ad91627da3f66ca63c802740d2881655c414523d44a2079'},\n",
       "  'no_address_tags': 0,\n",
       "  'no_addresses': 1,\n",
       "  'no_incoming_txs': 1,\n",
       "  'no_outgoing_txs': 1,\n",
       "  'out_degree': 2,\n",
       "  'root_address': '1NtmxPvS7KPZ93c1gVNXbgYpbMY2gyyCCb',\n",
       "  'total_received': {'fiat_values': [{'code': 'eur', 'value': 38088.46},\n",
       "                                     {'code': 'usd', 'value': 45344.32}],\n",
       "                     'value': 1248796966},\n",
       "  'total_spent': {'fiat_values': [{'code': 'eur', 'value': 38088.46},\n",
       "                                  {'code': 'usd', 'value': 45344.32}],\n",
       "                  'value': 1248796966}},\n",
       " {'balance': {'fiat_values': [{'code': 'eur', 'value': 11.84},\n",
       "                              {'code': 'usd', 'value': 11.81}],\n",
       "              'value': 54658},\n",
       "  'best_address_tag': {'address': '3JjPf13Rd8g6WAyvg8yiPnrsdjJt1NP4FC',\n",
       "                       'category': 'exchange',\n",
       "                       'confidence': 'manual_transaction',\n",
       "                       'confidence_level': 90,\n",
       "                       'currency': 'BTC',\n",
       "                       'entity': 309180198.0,\n",
       "                       'is_cluster_definer': True,\n",
       "                       'label': 'changelly',\n",
       "                       'lastmod': 1650240000,\n",
       "                       'source': 'Manual transaction',\n",
       "                       'tagpack_creator': 'Trusted data provider',\n",
       "                       'tagpack_is_public': False,\n",
       "                       'tagpack_title': 'Manual BTC Tags'},\n",
       "  'currency': 'btc',\n",
       "  'entity': 309180198,\n",
       "  'first_tx': {'height': 488028,\n",
       "               'timestamp': 1506992243,\n",
       "               'tx_hash': '06a041d54dcb8b23c572d63e8a97ac5ff117be973522da9d1c8a2a7fd5c3e2e9'},\n",
       "  'in_degree': 352,\n",
       "  'last_tx': {'height': 731454,\n",
       "              'timestamp': 1649716468,\n",
       "              'tx_hash': '3567f8b21afc486223305efb318c3b1fc2604a0edd4ea2357f8a216bed69d226'},\n",
       "  'no_address_tags': 17,\n",
       "  'no_addresses': 7,\n",
       "  'no_incoming_txs': 16568,\n",
       "  'no_outgoing_txs': 328072,\n",
       "  'out_degree': 938554,\n",
       "  'root_address': '378p3u4RN1HTEWFkiTK27zuBWbx6eLSX6p',\n",
       "  'total_received': {'fiat_values': [{'code': 'eur', 'value': 8219760128.0},\n",
       "                                     {'code': 'usd', 'value': 9675532288.0}],\n",
       "                     'value': 79760803583862},\n",
       "  'total_spent': {'fiat_values': [{'code': 'eur', 'value': 8220233728.0},\n",
       "                                  {'code': 'usd', 'value': 9675483136.0}],\n",
       "                  'value': 79760803529204}},\n",
       " {'balance': {'fiat_values': [{'code': 'eur', 'value': 0.0},\n",
       "                              {'code': 'usd', 'value': 0.0}],\n",
       "              'value': 0},\n",
       "  'currency': 'btc',\n",
       "  'entity': 310961314,\n",
       "  'first_tx': {'height': 488738,\n",
       "               'timestamp': 1507402051,\n",
       "               'tx_hash': 'e4d3a28a7e54789391abae587ab6ecb04bb6fe9568efa1fc51e709a99bc40829'},\n",
       "  'in_degree': 1,\n",
       "  'last_tx': {'height': 488739,\n",
       "              'timestamp': 1507402552,\n",
       "              'tx_hash': '59f5969d28a4087d55eab72311c42bf1317c1479c9d611753c9e26c7970372f3'},\n",
       "  'no_address_tags': 0,\n",
       "  'no_addresses': 1,\n",
       "  'no_incoming_txs': 1,\n",
       "  'no_outgoing_txs': 1,\n",
       "  'out_degree': 2,\n",
       "  'root_address': '12R9VcSGNNjSb7dJhKhWJ8fPtZrgFUEAik',\n",
       "  'total_received': {'fiat_values': [{'code': 'eur', 'value': 446.21},\n",
       "                                     {'code': 'usd', 'value': 522.37}],\n",
       "                     'value': 11800000},\n",
       "  'total_spent': {'fiat_values': [{'code': 'eur', 'value': 446.21},\n",
       "                                  {'code': 'usd', 'value': 522.37}],\n",
       "                  'value': 11800000}},\n",
       " {'balance': {'fiat_values': [{'code': 'eur', 'value': 0.0},\n",
       "                              {'code': 'usd', 'value': 0.0}],\n",
       "              'value': 0},\n",
       "  'currency': 'btc',\n",
       "  'entity': 319585362,\n",
       "  'first_tx': {'height': 492033,\n",
       "               'timestamp': 1509148596,\n",
       "               'tx_hash': '37efc095a41c7cc37c28b887109c39a198abe97720d6ca017c5630c871ea77ad'},\n",
       "  'in_degree': 1,\n",
       "  'last_tx': {'height': 492035,\n",
       "              'timestamp': 1509150438,\n",
       "              'tx_hash': 'f3beb860ccfab7a0fe02a60affd756cfd66a04d90ea23f036f83415122ffbb71'},\n",
       "  'no_address_tags': 0,\n",
       "  'no_addresses': 1,\n",
       "  'no_incoming_txs': 1,\n",
       "  'no_outgoing_txs': 1,\n",
       "  'out_degree': 2,\n",
       "  'root_address': '1AaG666W5MMxwkCBfeZ7SdjeykzTBvZsDg',\n",
       "  'total_received': {'fiat_values': [{'code': 'eur', 'value': 1583.98},\n",
       "                                     {'code': 'usd', 'value': 1838.21}],\n",
       "                     'value': 31797908},\n",
       "  'total_spent': {'fiat_values': [{'code': 'eur', 'value': 1576.36},\n",
       "                                  {'code': 'usd', 'value': 1829.36}],\n",
       "                  'value': 31797908}},\n",
       " {'balance': {'fiat_values': [{'code': 'eur', 'value': 0.0},\n",
       "                              {'code': 'usd', 'value': 0.0}],\n",
       "              'value': 0},\n",
       "  'currency': 'btc',\n",
       "  'entity': 338273984,\n",
       "  'first_tx': {'height': 497845,\n",
       "               'timestamp': 1512537432,\n",
       "               'tx_hash': 'c75558d557d5ecde2055e333f56d8927ae34bce53c1ecce5bb53aef5a8157557'},\n",
       "  'in_degree': 1,\n",
       "  'last_tx': {'height': 497846,\n",
       "              'timestamp': 1512537601,\n",
       "              'tx_hash': '3333d110854467df2c356d21c6d79be70f3e6c8b156b5f87b42eef8a4c7ab58f'},\n",
       "  'no_address_tags': 0,\n",
       "  'no_addresses': 1,\n",
       "  'no_incoming_txs': 1,\n",
       "  'no_outgoing_txs': 1,\n",
       "  'out_degree': 2,\n",
       "  'root_address': '1NAf1B7sNkhfFxWM9UQPCYju4A9gDpuULh',\n",
       "  'total_received': {'fiat_values': [{'code': 'eur', 'value': 204009.39},\n",
       "                                     {'code': 'usd', 'value': 241077.91}],\n",
       "                     'value': 1686862048},\n",
       "  'total_spent': {'fiat_values': [{'code': 'eur', 'value': 204009.39},\n",
       "                                  {'code': 'usd', 'value': 241077.91}],\n",
       "                  'value': 1686862048}},\n",
       " {'balance': {'fiat_values': [{'code': 'eur', 'value': 0.0},\n",
       "                              {'code': 'usd', 'value': 0.0}],\n",
       "              'value': 0},\n",
       "  'currency': 'btc',\n",
       "  'entity': 338277263,\n",
       "  'first_tx': {'height': 497846,\n",
       "               'timestamp': 1512537601,\n",
       "               'tx_hash': 'e62105d0f174f1d88cb881d006e02221c4265c10e20c3cd6eb3d3911f0cbb14e'},\n",
       "  'in_degree': 1,\n",
       "  'last_tx': {'height': 497846,\n",
       "              'timestamp': 1512537601,\n",
       "              'tx_hash': '6d6a43b3e99d382d9f8dcb012adfdc8104e13367daaad17828a544d96d384303'},\n",
       "  'no_address_tags': 0,\n",
       "  'no_addresses': 1,\n",
       "  'no_incoming_txs': 1,\n",
       "  'no_outgoing_txs': 1,\n",
       "  'out_degree': 2,\n",
       "  'root_address': '1MioiPxHQqJqHRx81DyNBuNnqCSWhtAaWr',\n",
       "  'total_received': {'fiat_values': [{'code': 'eur', 'value': 197148.59},\n",
       "                                     {'code': 'usd', 'value': 232970.5}],\n",
       "                     'value': 1630133222},\n",
       "  'total_spent': {'fiat_values': [{'code': 'eur', 'value': 197148.59},\n",
       "                                  {'code': 'usd', 'value': 232970.5}],\n",
       "                  'value': 1630133222}},\n",
       " {'balance': {'fiat_values': [{'code': 'eur', 'value': 0.0},\n",
       "                              {'code': 'usd', 'value': 0.0}],\n",
       "              'value': 0},\n",
       "  'currency': 'btc',\n",
       "  'entity': 341633544,\n",
       "  'first_tx': {'height': 498751,\n",
       "               'timestamp': 1513003569,\n",
       "               'tx_hash': '1c95305e77dc5dcafd49253f188c82695d0207c5a8522e601762b5f74fc8510d'},\n",
       "  'in_degree': 1,\n",
       "  'last_tx': {'height': 498753,\n",
       "              'timestamp': 1513004818,\n",
       "              'tx_hash': 'f1414c89f32cbf88f462eae679663836a57e259a69fd4ac5acbe86148e11e7a5'},\n",
       "  'no_address_tags': 0,\n",
       "  'no_addresses': 1,\n",
       "  'no_incoming_txs': 1,\n",
       "  'no_outgoing_txs': 1,\n",
       "  'out_degree': 2,\n",
       "  'root_address': '183U8D5JgAqVLjrPGxysRm1Wt97Mw4U9w4',\n",
       "  'total_received': {'fiat_values': [{'code': 'eur', 'value': 3202.36},\n",
       "                                     {'code': 'usd', 'value': 3777.51}],\n",
       "                     'value': 22303547},\n",
       "  'total_spent': {'fiat_values': [{'code': 'eur', 'value': 3202.36},\n",
       "                                  {'code': 'usd', 'value': 3777.51}],\n",
       "                  'value': 22303547}},\n",
       " {'balance': {'fiat_values': [{'code': 'eur', 'value': 0.0},\n",
       "                              {'code': 'usd', 'value': 0.0}],\n",
       "              'value': 0},\n",
       "  'currency': 'btc',\n",
       "  'entity': 352511195,\n",
       "  'first_tx': {'height': 501747,\n",
       "               'timestamp': 1514651331,\n",
       "               'tx_hash': 'cea138b604a172753cef202fb1163b9f9d771bf0d2cec4eccba46cf7ac73ca37'},\n",
       "  'in_degree': 1,\n",
       "  'last_tx': {'height': 501749,\n",
       "              'timestamp': 1514651646,\n",
       "              'tx_hash': '4a09e0a1a126c4d6c20ac06d5ea93cb818758e3c031c555015d978b71d61b5e5'},\n",
       "  'no_address_tags': 0,\n",
       "  'no_addresses': 1,\n",
       "  'no_incoming_txs': 1,\n",
       "  'no_outgoing_txs': 1,\n",
       "  'out_degree': 2,\n",
       "  'root_address': '15ZBeQhLfQSFZVUypJcEhE9uLR1WKBb6nk',\n",
       "  'total_received': {'fiat_values': [{'code': 'eur', 'value': 3410.57},\n",
       "                                     {'code': 'usd', 'value': 4090.3}],\n",
       "                     'value': 31579950},\n",
       "  'total_spent': {'fiat_values': [{'code': 'eur', 'value': 3410.57},\n",
       "                                  {'code': 'usd', 'value': 4090.3}],\n",
       "                  'value': 31579950}},\n",
       " {'balance': {'fiat_values': [{'code': 'eur', 'value': 0.0},\n",
       "                              {'code': 'usd', 'value': 0.0}],\n",
       "              'value': 0},\n",
       "  'currency': 'btc',\n",
       "  'entity': 358193058,\n",
       "  'first_tx': {'height': 503358,\n",
       "               'timestamp': 1515512960,\n",
       "               'tx_hash': '0f6f6d9d34ccdacfbadc6aaed12fd432305449cb66fec3b770b19f7913fdf5db'},\n",
       "  'in_degree': 2,\n",
       "  'last_tx': {'height': 503457,\n",
       "              'timestamp': 1515563118,\n",
       "              'tx_hash': '07dd63c0a721b2b5fdc4e10945485be42e29dfa5c135b0a718bbf63d40477d88'},\n",
       "  'no_address_tags': 0,\n",
       "  'no_addresses': 2,\n",
       "  'no_incoming_txs': 2,\n",
       "  'no_outgoing_txs': 1,\n",
       "  'out_degree': 2,\n",
       "  'root_address': '3F8h3CXf4msieEmvUF27wQ5VxeDM2VZGpr',\n",
       "  'total_received': {'fiat_values': [{'code': 'eur', 'value': 3224.95},\n",
       "                                     {'code': 'usd', 'value': 3866.18}],\n",
       "                     'value': 25861400},\n",
       "  'total_spent': {'fiat_values': [{'code': 'eur', 'value': 3229.07},\n",
       "                                  {'code': 'usd', 'value': 3872.3}],\n",
       "                  'value': 25861400}},\n",
       " {'balance': {'fiat_values': [{'code': 'eur', 'value': 0.0},\n",
       "                              {'code': 'usd', 'value': 0.0}],\n",
       "              'value': 0},\n",
       "  'currency': 'btc',\n",
       "  'entity': 358476565,\n",
       "  'first_tx': {'height': 503434,\n",
       "               'timestamp': 1515548221,\n",
       "               'tx_hash': '471c173e1db18c88aac79b957c68c2a1a80fd36c9f3187f6793a06c072d8e5b4'},\n",
       "  'in_degree': 1,\n",
       "  'last_tx': {'height': 503457,\n",
       "              'timestamp': 1515563118,\n",
       "              'tx_hash': '79891f82b8b13992c3f070a3a87fe569826dd3728a1e5032272431691058adb2'},\n",
       "  'no_address_tags': 0,\n",
       "  'no_addresses': 1,\n",
       "  'no_incoming_txs': 1,\n",
       "  'no_outgoing_txs': 1,\n",
       "  'out_degree': 2,\n",
       "  'root_address': '32JdST7YqwKYGBvrTWYsNPq8ctJVi6Ae5y',\n",
       "  'total_received': {'fiat_values': [{'code': 'eur', 'value': 4162.54},\n",
       "                                     {'code': 'usd', 'value': 4991.72}],\n",
       "                     'value': 33337450},\n",
       "  'total_spent': {'fiat_values': [{'code': 'eur', 'value': 4162.54},\n",
       "                                  {'code': 'usd', 'value': 4991.72}],\n",
       "                  'value': 33337450}},\n",
       " {'balance': {'fiat_values': [{'code': 'eur', 'value': 2471923.16},\n",
       "                              {'code': 'usd', 'value': 2464507.35}],\n",
       "              'value': 11409278589},\n",
       "  'best_address_tag': {'address': 'bc1qzzzzz5rmrtf8eg7hdwyz3jz83ew6rl5uffafuj',\n",
       "                       'category': 'coinjoin',\n",
       "                       'confidence': 'forensic',\n",
       "                       'confidence_level': 50,\n",
       "                       'currency': 'BTC',\n",
       "                       'entity': 361842229.0,\n",
       "                       'is_cluster_definer': True,\n",
       "                       'label': 'wasabi',\n",
       "                       'lastmod': 1609372800,\n",
       "                       'source': 'Iknaio research',\n",
       "                       'tagpack_creator': 'Iknaio research',\n",
       "                       'tagpack_is_public': False,\n",
       "                       'tagpack_title': 'Wasabi CoinJoin'},\n",
       "  'currency': 'btc',\n",
       "  'entity': 361842229,\n",
       "  'first_tx': {'height': 504578,\n",
       "               'timestamp': 1516154423,\n",
       "               'tx_hash': 'd9154d3c790176ea789a9476892c785192cf3a03ccbcbc7394c649b9993d68aa'},\n",
       "  'in_degree': 466831,\n",
       "  'last_tx': {'height': 751122,\n",
       "              'timestamp': 1661469852,\n",
       "              'tx_hash': '076be8b321273857a9c7e0482d9e0be3ba0b0703d39f6d6a24fe65e4f9662262'},\n",
       "  'no_address_tags': 1972220,\n",
       "  'no_addresses': 2398644,\n",
       "  'no_incoming_txs': 380237,\n",
       "  'no_outgoing_txs': 52163,\n",
       "  'out_degree': 661331,\n",
       "  'root_address': '18BZT2jGxVDeLqKjTUTnuonfBzBee1aNzV',\n",
       "  'total_received': {'fiat_values': [{'code': 'eur', 'value': 5655845888.0},\n",
       "                                     {'code': 'usd', 'value': 6485530112.0}],\n",
       "                     'value': 30846917125977},\n",
       "  'total_spent': {'fiat_values': [{'code': 'eur', 'value': 5722784768.0},\n",
       "                                  {'code': 'usd', 'value': 6561171456.0}],\n",
       "                  'value': 30835507847388}},\n",
       " {'balance': {'fiat_values': [{'code': 'eur', 'value': 0.0},\n",
       "                              {'code': 'usd', 'value': 0.0}],\n",
       "              'value': 0},\n",
       "  'currency': 'btc',\n",
       "  'entity': 362233410,\n",
       "  'first_tx': {'height': 504716,\n",
       "               'timestamp': 1516223394,\n",
       "               'tx_hash': 'c615d87ba17f75d072c347e4af15c28aa409047d3c12f69c453ab257139485ac'},\n",
       "  'in_degree': 2,\n",
       "  'last_tx': {'height': 504932,\n",
       "              'timestamp': 1516339385,\n",
       "              'tx_hash': '549303882f1bc56616324f9bc2b5ed8aea5821fac30e09cc7a4d94451a9002c7'},\n",
       "  'no_address_tags': 0,\n",
       "  'no_addresses': 2,\n",
       "  'no_incoming_txs': 2,\n",
       "  'no_outgoing_txs': 1,\n",
       "  'out_degree': 2,\n",
       "  'root_address': '35CimZDcL2bHRF3kumLfSS6Mt7Zknbp2DM',\n",
       "  'total_received': {'fiat_values': [{'code': 'eur', 'value': 3469.7},\n",
       "                                     {'code': 'usd', 'value': 4242.42}],\n",
       "                     'value': 37205512},\n",
       "  'total_spent': {'fiat_values': [{'code': 'eur', 'value': 3523.94},\n",
       "                                  {'code': 'usd', 'value': 4318.59}],\n",
       "                  'value': 37205512}},\n",
       " {'balance': {'fiat_values': [{'code': 'eur', 'value': 0.0},\n",
       "                              {'code': 'usd', 'value': 0.0}],\n",
       "              'value': 0},\n",
       "  'currency': 'btc',\n",
       "  'entity': 369451545,\n",
       "  'first_tx': {'height': 508109,\n",
       "               'timestamp': 1518014627,\n",
       "               'tx_hash': '34d0bad0d0fd764cd8128f9d4edf16f24e4d4150cc9ae4d735ffdb02ff3395f5'},\n",
       "  'in_degree': 1,\n",
       "  'last_tx': {'height': 508113,\n",
       "              'timestamp': 1518015859,\n",
       "              'tx_hash': 'b11201969e0b5dfe4a3522669fe25b017a51093a7f396c68d05b338a8fd06567'},\n",
       "  'no_address_tags': 0,\n",
       "  'no_addresses': 1,\n",
       "  'no_incoming_txs': 1,\n",
       "  'no_outgoing_txs': 1,\n",
       "  'out_degree': 2,\n",
       "  'root_address': '1JEqB7L77g2iS4MUVdyhugKcqrcSodjpat',\n",
       "  'total_received': {'fiat_values': [{'code': 'eur', 'value': 10651.45},\n",
       "                                     {'code': 'usd', 'value': 13141.76}],\n",
       "                     'value': 172434676},\n",
       "  'total_spent': {'fiat_values': [{'code': 'eur', 'value': 10651.45},\n",
       "                                  {'code': 'usd', 'value': 13141.76}],\n",
       "                  'value': 172434676}},\n",
       " {'balance': {'fiat_values': [{'code': 'eur', 'value': 0.0},\n",
       "                              {'code': 'usd', 'value': 0.0}],\n",
       "              'value': 0},\n",
       "  'currency': 'btc',\n",
       "  'entity': 369830639,\n",
       "  'first_tx': {'height': 508293,\n",
       "               'timestamp': 1518126648,\n",
       "               'tx_hash': 'db210a22617dd9f324c77aa4e4a5286c667044ed73f3afaa928544f277687453'},\n",
       "  'in_degree': 1,\n",
       "  'last_tx': {'height': 508294,\n",
       "              'timestamp': 1518128721,\n",
       "              'tx_hash': '522459986e5f7fc7036b11b1d7d44420c429500281d06a3b5a5558f9a0781b36'},\n",
       "  'no_address_tags': 0,\n",
       "  'no_addresses': 1,\n",
       "  'no_incoming_txs': 1,\n",
       "  'no_outgoing_txs': 1,\n",
       "  'out_degree': 2,\n",
       "  'root_address': '1C7oMqw6Te9XCqSKsBLAVmNn89LKwFTLfL',\n",
       "  'total_received': {'fiat_values': [{'code': 'eur', 'value': 3518.56},\n",
       "                                     {'code': 'usd', 'value': 4310.94}],\n",
       "                     'value': 52155305},\n",
       "  'total_spent': {'fiat_values': [{'code': 'eur', 'value': 3518.56},\n",
       "                                  {'code': 'usd', 'value': 4310.94}],\n",
       "                  'value': 52155305}},\n",
       " {'balance': {'fiat_values': [{'code': 'eur', 'value': 0.0},\n",
       "                              {'code': 'usd', 'value': 0.0}],\n",
       "              'value': 0},\n",
       "  'currency': 'btc',\n",
       "  'entity': 386975878,\n",
       "  'first_tx': {'height': 518120,\n",
       "               'timestamp': 1523680569,\n",
       "               'tx_hash': '6259e19075145162beb9a625253fd7563e6a48230f7848cf61116a49f7818b67'},\n",
       "  'in_degree': 3,\n",
       "  'last_tx': {'height': 518691,\n",
       "              'timestamp': 1524006575,\n",
       "              'tx_hash': '2cf658164ff08e1910c1d5098eb5a2c5457961357f7c20daee77f9b88d0284d9'},\n",
       "  'no_address_tags': 0,\n",
       "  'no_addresses': 3,\n",
       "  'no_incoming_txs': 3,\n",
       "  'no_outgoing_txs': 1,\n",
       "  'out_degree': 10,\n",
       "  'root_address': '32WFMfTytYsYDFq6EzacTJGKppQYqyVHwh',\n",
       "  'total_received': {'fiat_values': [{'code': 'eur', 'value': 2286.49},\n",
       "                                     {'code': 'usd', 'value': 2823.76}],\n",
       "                     'value': 35664514},\n",
       "  'total_spent': {'fiat_values': [{'code': 'eur', 'value': 2280.68},\n",
       "                                  {'code': 'usd', 'value': 2818.24}],\n",
       "                  'value': 35664514}},\n",
       " {'balance': {'fiat_values': [{'code': 'eur', 'value': 0.0},\n",
       "                              {'code': 'usd', 'value': 0.0}],\n",
       "              'value': 0},\n",
       "  'currency': 'btc',\n",
       "  'entity': 387509448,\n",
       "  'first_tx': {'height': 518443,\n",
       "               'timestamp': 1523865911,\n",
       "               'tx_hash': 'b331d3ade279a029e356ccfeda0f424d67fe46ab03d8df6ff6deec29305bcad2'},\n",
       "  'in_degree': 3,\n",
       "  'last_tx': {'height': 518691,\n",
       "              'timestamp': 1524006575,\n",
       "              'tx_hash': 'ca5f895beabad1674a9aabb37f8392154fdadedca5bbcd4c09abdabb017c40a7'},\n",
       "  'no_address_tags': 0,\n",
       "  'no_addresses': 3,\n",
       "  'no_incoming_txs': 3,\n",
       "  'no_outgoing_txs': 1,\n",
       "  'out_degree': 8,\n",
       "  'root_address': '3CqeimW2H8P7anT8EVqMPJkf8Y6pydjXkG',\n",
       "  'total_received': {'fiat_values': [{'code': 'eur', 'value': 2015.86},\n",
       "                                     {'code': 'usd', 'value': 2491.04}],\n",
       "                     'value': 31513972},\n",
       "  'total_spent': {'fiat_values': [{'code': 'eur', 'value': 2015.26},\n",
       "                                  {'code': 'usd', 'value': 2490.26}],\n",
       "                  'value': 31513972}},\n",
       " {'balance': {'fiat_values': [{'code': 'eur', 'value': 0.0},\n",
       "                              {'code': 'usd', 'value': 0.0}],\n",
       "              'value': 0},\n",
       "  'currency': 'btc',\n",
       "  'entity': 397336900,\n",
       "  'first_tx': {'height': 523386,\n",
       "               'timestamp': 1526729591,\n",
       "               'tx_hash': 'e7fe451794b9c2c0e25250c9c95abb9a2be15bcd1b473b1da80456970e93ff9f'},\n",
       "  'in_degree': 1,\n",
       "  'last_tx': {'height': 523407,\n",
       "              'timestamp': 1526739630,\n",
       "              'tx_hash': '7e9ef42c5edd2d199d12f927bb1272c23269f6eafd8d6d9a1587d3e658458c72'},\n",
       "  'no_address_tags': 0,\n",
       "  'no_addresses': 1,\n",
       "  'no_incoming_txs': 1,\n",
       "  'no_outgoing_txs': 1,\n",
       "  'out_degree': 3,\n",
       "  'root_address': '3Jhvom7TXKzkpdh2KVM3KWXYmoJjuA3ByP',\n",
       "  'total_received': {'fiat_values': [{'code': 'eur', 'value': 1494.57},\n",
       "                                     {'code': 'usd', 'value': 1760.76}],\n",
       "                     'value': 21349809},\n",
       "  'total_spent': {'fiat_values': [{'code': 'eur', 'value': 1494.57},\n",
       "                                  {'code': 'usd', 'value': 1760.76}],\n",
       "                  'value': 21349809}},\n",
       " {'balance': {'fiat_values': [{'code': 'eur', 'value': 0.0},\n",
       "                              {'code': 'usd', 'value': 0.0}],\n",
       "              'value': 0},\n",
       "  'currency': 'btc',\n",
       "  'entity': 397339280,\n",
       "  'first_tx': {'height': 523387,\n",
       "               'timestamp': 1526730192,\n",
       "               'tx_hash': 'd34a9f8cd928a8563da6db709de52fea018bb0e0e32f922dbcd49ce302998f44'},\n",
       "  'in_degree': 5,\n",
       "  'last_tx': {'height': 523407,\n",
       "              'timestamp': 1526739630,\n",
       "              'tx_hash': '428dbbe8489ea79bd03674adf8dc680b04855aaef0e315591029ee9a557832b3'},\n",
       "  'no_address_tags': 0,\n",
       "  'no_addresses': 5,\n",
       "  'no_incoming_txs': 5,\n",
       "  'no_outgoing_txs': 1,\n",
       "  'out_degree': 3,\n",
       "  'root_address': '3FgdUPuY2uYSLUhG4cpmeuKoiDimKWoXaw',\n",
       "  'total_received': {'fiat_values': [{'code': 'eur', 'value': 966.54},\n",
       "                                     {'code': 'usd', 'value': 1138.69}],\n",
       "                     'value': 13807042},\n",
       "  'total_spent': {'fiat_values': [{'code': 'eur', 'value': 966.55},\n",
       "                                  {'code': 'usd', 'value': 1138.69}],\n",
       "                  'value': 13807042}},\n",
       " {'balance': {'fiat_values': [{'code': 'eur', 'value': 0.0},\n",
       "                              {'code': 'usd', 'value': 0.0}],\n",
       "              'value': 0},\n",
       "  'currency': 'btc',\n",
       "  'entity': 402990594,\n",
       "  'first_tx': {'height': 526633,\n",
       "               'timestamp': 1528498896,\n",
       "               'tx_hash': 'ea22d213f7b7fe43ff41065b4e2ebc41aba119a9d3ea14ce94af5632535f63d0'},\n",
       "  'in_degree': 2,\n",
       "  'last_tx': {'height': 526652,\n",
       "              'timestamp': 1528506794,\n",
       "              'tx_hash': '7894ebd613f5642b9c2c8247424a07680279847ded0c2dd7ccf8bb8ce27e90af'},\n",
       "  'no_address_tags': 0,\n",
       "  'no_addresses': 2,\n",
       "  'no_incoming_txs': 2,\n",
       "  'no_outgoing_txs': 1,\n",
       "  'out_degree': 2,\n",
       "  'root_address': '38mJvRHnDyRRD1pwJc63hoKed3dvViqb1r',\n",
       "  'total_received': {'fiat_values': [{'code': 'eur', 'value': 666.29},\n",
       "                                     {'code': 'usd', 'value': 783.17}],\n",
       "                     'value': 10287281},\n",
       "  'total_spent': {'fiat_values': [{'code': 'eur', 'value': 659.21},\n",
       "                                  {'code': 'usd', 'value': 774.84}],\n",
       "                  'value': 10287281}},\n",
       " {'balance': {'fiat_values': [{'code': 'eur', 'value': 428.05},\n",
       "                              {'code': 'usd', 'value': 426.76}],\n",
       "              'value': 1975674},\n",
       "  'currency': 'btc',\n",
       "  'entity': 410575248,\n",
       "  'first_tx': {'height': 530932,\n",
       "               'timestamp': 1530993088,\n",
       "               'tx_hash': '2e587203d7ea9a4afbc01b9737c4bccfae11732fd325781d5f0193f296833bb7'},\n",
       "  'in_degree': 169,\n",
       "  'last_tx': {'height': 721408,\n",
       "              'timestamp': 1643758418,\n",
       "              'tx_hash': '66e8e77d69cea690c3c3c93c7ce28d6f47958fb435828e7e495ff72a21529dfb'},\n",
       "  'no_address_tags': 0,\n",
       "  'no_addresses': 11,\n",
       "  'no_incoming_txs': 187,\n",
       "  'no_outgoing_txs': 32,\n",
       "  'out_degree': 29818,\n",
       "  'root_address': '1ViViGLEawN27xRzGrEhhYPQrZiTKvKLo',\n",
       "  'total_received': {'fiat_values': [{'code': 'eur', 'value': 2918.21},\n",
       "                                     {'code': 'usd', 'value': 3287.6}],\n",
       "                     'value': 73432798},\n",
       "  'total_spent': {'fiat_values': [{'code': 'eur', 'value': 2755.69},\n",
       "                                  {'code': 'usd', 'value': 3104.65}],\n",
       "                  'value': 71457124}},\n",
       " {'balance': {'fiat_values': [{'code': 'eur', 'value': 0.0},\n",
       "                              {'code': 'usd', 'value': 0.0}],\n",
       "              'value': 0},\n",
       "  'currency': 'btc',\n",
       "  'entity': 426062695,\n",
       "  'first_tx': {'height': 539051,\n",
       "               'timestamp': 1535552008,\n",
       "               'tx_hash': '911974d250624c52792dc6a7eadf16618efd6e45d54170e2ca57a99cfd429234'},\n",
       "  'in_degree': 3,\n",
       "  'last_tx': {'height': 539210,\n",
       "              'timestamp': 1535642851,\n",
       "              'tx_hash': 'efd0385a451026921af205de82420a34204bfddcdf44f6d7ac95914719065ef4'},\n",
       "  'no_address_tags': 0,\n",
       "  'no_addresses': 3,\n",
       "  'no_incoming_txs': 3,\n",
       "  'no_outgoing_txs': 1,\n",
       "  'out_degree': 2,\n",
       "  'root_address': '387htQFKVcXzGuQbQSMh4VqoWwhWqaG3sG',\n",
       "  'total_received': {'fiat_values': [{'code': 'eur', 'value': 1251.1},\n",
       "                                     {'code': 'usd', 'value': 1458.93}],\n",
       "                     'value': 20709151},\n",
       "  'total_spent': {'fiat_values': [{'code': 'eur', 'value': 1236.0},\n",
       "                                  {'code': 'usd', 'value': 1445.13}],\n",
       "                  'value': 20709151}},\n",
       " {'balance': {'fiat_values': [{'code': 'eur', 'value': 0.0},\n",
       "                              {'code': 'usd', 'value': 0.0}],\n",
       "              'value': 0},\n",
       "  'currency': 'btc',\n",
       "  'entity': 426375362,\n",
       "  'first_tx': {'height': 539204,\n",
       "               'timestamp': 1535637834,\n",
       "               'tx_hash': 'e1531e861dc4dc76fe34eb58ed8ca8ecbc5c73952ba78065751fccb179018d54'},\n",
       "  'in_degree': 3,\n",
       "  'last_tx': {'height': 539209,\n",
       "              'timestamp': 1535642110,\n",
       "              'tx_hash': 'b105c6e7d5d165bb21dde1d422ef66a8e76fc06d293f5c61e55303139829d707'},\n",
       "  'no_address_tags': 0,\n",
       "  'no_addresses': 3,\n",
       "  'no_incoming_txs': 3,\n",
       "  'no_outgoing_txs': 1,\n",
       "  'out_degree': 2,\n",
       "  'root_address': '33zC1QjmwXoenGvf29GrMLxu6PBqaMz2TP',\n",
       "  'total_received': {'fiat_values': [{'code': 'eur', 'value': 194.23},\n",
       "                                     {'code': 'usd', 'value': 227.09}],\n",
       "                     'value': 3254278},\n",
       "  'total_spent': {'fiat_values': [{'code': 'eur', 'value': 194.23},\n",
       "                                  {'code': 'usd', 'value': 227.09}],\n",
       "                  'value': 3254278}},\n",
       " {'balance': {'fiat_values': [{'code': 'eur', 'value': 0.0},\n",
       "                              {'code': 'usd', 'value': 0.0}],\n",
       "              'value': 0},\n",
       "  'currency': 'btc',\n",
       "  'entity': 439414832,\n",
       "  'first_tx': {'height': 545197,\n",
       "               'timestamp': 1539197941,\n",
       "               'tx_hash': '2c4501bc5709912886082d28bc844be0f16085ffdea752b952f479ccba8ca78c'},\n",
       "  'in_degree': 1,\n",
       "  'last_tx': {'height': 545198,\n",
       "              'timestamp': 1539198622,\n",
       "              'tx_hash': 'cd8fc075f92ffa4e11297df4f23b897f88add44b60696dea805ffe351be58e72'},\n",
       "  'no_address_tags': 0,\n",
       "  'no_addresses': 1,\n",
       "  'no_incoming_txs': 1,\n",
       "  'no_outgoing_txs': 1,\n",
       "  'out_degree': 5,\n",
       "  'root_address': '34K4RA2gduwqm35W6RPSSM6H76vDnn54m1',\n",
       "  'total_received': {'fiat_values': [{'code': 'eur', 'value': 27487.53},\n",
       "                                     {'code': 'usd', 'value': 31610.65}],\n",
       "                     'value': 480001670},\n",
       "  'total_spent': {'fiat_values': [{'code': 'eur', 'value': 27487.53},\n",
       "                                  {'code': 'usd', 'value': 31610.65}],\n",
       "                  'value': 480001670}},\n",
       " {'balance': {'fiat_values': [{'code': 'eur', 'value': 0.0},\n",
       "                              {'code': 'usd', 'value': 0.0}],\n",
       "              'value': 0},\n",
       "  'currency': 'btc',\n",
       "  'entity': 484220467,\n",
       "  'first_tx': {'height': 565523,\n",
       "               'timestamp': 1551638313,\n",
       "               'tx_hash': '47a6fe1281ad3e11348008019cc8aaa37ccbb0225af2e34756a14c04005a62b4'},\n",
       "  'in_degree': 1,\n",
       "  'last_tx': {'height': 565525,\n",
       "              'timestamp': 1551639660,\n",
       "              'tx_hash': '721b4f0bcf2a778ece3487d937c88c46d53bf066a200ddac487a079724a2c7e4'},\n",
       "  'no_address_tags': 0,\n",
       "  'no_addresses': 1,\n",
       "  'no_incoming_txs': 1,\n",
       "  'no_outgoing_txs': 1,\n",
       "  'out_degree': 2,\n",
       "  'root_address': 'bc1qc8xu06qm2zf5p7526hpk9as78xla8f2fdzjqej',\n",
       "  'total_received': {'fiat_values': [{'code': 'eur', 'value': 39484.06},\n",
       "                                     {'code': 'usd', 'value': 44944.7}],\n",
       "                     'value': 1168251719},\n",
       "  'total_spent': {'fiat_values': [{'code': 'eur', 'value': 39484.06},\n",
       "                                  {'code': 'usd', 'value': 44944.7}],\n",
       "                  'value': 1168251719}}]"
      ]
     },
     "execution_count": 25,
     "metadata": {},
     "output_type": "execute_result"
    }
   ],
   "source": [
    "[e.entity for e in entity_neighbors_obj.neighbors]"
   ]
  },
  {
   "cell_type": "markdown",
   "metadata": {},
   "source": [
    "Not too many, we can work with them. Let's see if we are lucky with the labels of the incoming neighbors!"
   ]
  },
  {
   "cell_type": "code",
   "execution_count": 26,
   "metadata": {
    "ExecuteTime": {
     "end_time": "2020-11-11T09:19:09.566634Z",
     "start_time": "2020-11-11T09:19:09.553839Z"
    }
   },
   "outputs": [
    {
     "name": "stdout",
     "output_type": "stream",
     "text": [
      "poloniex.com (Entity ID: 25701482)\n",
      "changelly (Entity ID: 309180198)\n",
      "wasabi (Entity ID: 361842229)\n"
     ]
    }
   ],
   "source": [
    "known_neighbors = [el for el in entity_neighbors_obj.neighbors if len(el.labels) > 0]\n",
    "for neighbor in known_neighbors:\n",
    "    print(f\"{neighbor.labels[0]} (Entity ID: {neighbor.entity.entity})\")"
   ]
  },
  {
   "cell_type": "markdown",
   "metadata": {},
   "source": [
    "Bingo! We found 3 known entities, which sent money to our entity: **Poloniex.com**, **Changelly**, and **Wasabi** which are cryptoasset exchanges."
   ]
  }
 ],
 "metadata": {
  "kernelspec": {
   "display_name": "Python 3 (ipykernel)",
   "language": "python",
   "name": "python3"
  },
  "language_info": {
   "codemirror_mode": {
    "name": "ipython",
    "version": 3
   },
   "file_extension": ".py",
   "mimetype": "text/x-python",
   "name": "python",
   "nbconvert_exporter": "python",
   "pygments_lexer": "ipython3",
   "version": "3.10.6"
  }
 },
 "nbformat": 4,
 "nbformat_minor": 2
}
