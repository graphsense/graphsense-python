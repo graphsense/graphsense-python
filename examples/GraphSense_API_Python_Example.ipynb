{
 "cells": [
  {
   "cell_type": "code",
   "execution_count": 1,
   "metadata": {
    "ExecuteTime": {
     "end_time": "2020-11-09T14:26:50.279318Z",
     "start_time": "2020-11-09T14:26:50.139194Z"
    }
   },
   "outputs": [],
   "source": [
    "import graphsense"
   ]
  },
  {
   "cell_type": "code",
   "execution_count": 2,
   "metadata": {
    "ExecuteTime": {
     "end_time": "2020-11-09T14:26:50.788136Z",
     "start_time": "2020-11-09T14:26:50.779709Z"
    }
   },
   "outputs": [],
   "source": [
    "configuration = graphsense.Configuration(host = \"http://localhost:9000\", api_key = {'api_key': 'alicekey'})\n",
    "api_client = graphsense.ApiClient(configuration)\n",
    "addresses_api = graphsense.AddressesApi(api_client)\n",
    "address_string = '18NSAybFEhLa6AG3gxEN1hiaRJoSvvbnDb'\n",
    "currency = 'btc'"
   ]
  },
  {
   "cell_type": "code",
   "execution_count": 34,
   "metadata": {
    "ExecuteTime": {
     "end_time": "2020-11-09T14:42:47.362149Z",
     "start_time": "2020-11-09T14:42:46.221493Z"
    }
   },
   "outputs": [
    {
     "name": "stdout",
     "output_type": "stream",
     "text": [
      "Address 18NSAybFEhLa6AG3gxEN1hiaRJoSvvbnDb received 57741 EUR and 34 incoming txs from 62 incoming neighbors\n"
     ]
    }
   ],
   "source": [
    "address_obj = addresses_api.get_address_with_tags(currency, address_string)\n",
    "print('Address', address_obj.address, 'received', address_obj.total_received.eur, 'EUR and', \n",
    "      address_obj.no_incoming_txs, 'incoming txs from',\n",
    "      address_obj.in_degree, 'incoming neighbors.')"
   ]
  },
  {
   "cell_type": "code",
   "execution_count": 33,
   "metadata": {
    "ExecuteTime": {
     "end_time": "2020-11-09T14:42:45.986967Z",
     "start_time": "2020-11-09T14:42:45.125562Z"
    }
   },
   "outputs": [
    {
     "name": "stdout",
     "output_type": "stream",
     "text": [
      "Entity 203719034 received 57741 EUR and 34 incoming txs from 31 incoming neighbors\n"
     ]
    }
   ],
   "source": [
    "entity_obj = addresses_api.get_address_entity(currency, address_string)\n",
    "print('Entity', entity_obj.entity, 'received', entity_obj.total_received.eur, 'EUR and', \n",
    "      entity_obj.no_incoming_txs, 'incoming txs from',\n",
    "      entity_obj.in_degree, 'incoming neighbors.')"
   ]
  }
 ],
 "metadata": {
  "kernelspec": {
   "display_name": "Python 3",
   "language": "python",
   "name": "python3"
  },
  "language_info": {
   "codemirror_mode": {
    "name": "ipython",
    "version": 3
   },
   "file_extension": ".py",
   "mimetype": "text/x-python",
   "name": "python",
   "nbconvert_exporter": "python",
   "pygments_lexer": "ipython3",
   "version": "3.6.9"
  }
 },
 "nbformat": 4,
 "nbformat_minor": 2
}
